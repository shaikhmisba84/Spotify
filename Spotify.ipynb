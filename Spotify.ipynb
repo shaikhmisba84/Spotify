{
  "cells": [
    {
      "cell_type": "code",
      "source": [
        "from google.colab import drive\n",
        "drive.mount('/content/drive')"
      ],
      "metadata": {
        "colab": {
          "base_uri": "https://localhost:8080/"
        },
        "id": "cVG_NfbU2kKE",
        "outputId": "fcfcddea-cd3c-48f0-aaae-35773418c8ef"
      },
      "id": "cVG_NfbU2kKE",
      "execution_count": 2,
      "outputs": [
        {
          "output_type": "stream",
          "name": "stdout",
          "text": [
            "Drive already mounted at /content/drive; to attempt to forcibly remount, call drive.mount(\"/content/drive\", force_remount=True).\n"
          ]
        }
      ]
    },
    {
      "cell_type": "code",
      "execution_count": 3,
      "id": "310b865e",
      "metadata": {
        "id": "310b865e"
      },
      "outputs": [],
      "source": [
        "import numpy as  np\n",
        "import pandas as pd\n",
        "import matplotlib.pyplot as plt\n",
        "import seaborn as sns\n",
        "import warnings\n",
        "warnings.filterwarnings('ignore')\n",
        "\n",
        "\n",
        "from sklearn.model_selection import train_test_split\n",
        "from sklearn.preprocessing import StandardScaler\n",
        "from sklearn.linear_model import LogisticRegression\n",
        "from sklearn.metrics import classification_report, confusion_matrix"
      ]
    },
    {
      "cell_type": "code",
      "execution_count": 10,
      "id": "b0822adb",
      "metadata": {
        "colab": {
          "base_uri": "https://localhost:8080/",
          "height": 455
        },
        "id": "b0822adb",
        "outputId": "ddc5d923-4623-49db-f09b-95e57d714ca8"
      },
      "outputs": [
        {
          "output_type": "execute_result",
          "data": {
            "text/plain": [
              "       danceability  energy  key  loudness  mode  speechiness  acousticness  \\\n",
              "42300         0.528   0.693    4    -5.148     1       0.0304      0.031500   \n",
              "42301         0.517   0.768    0    -7.922     0       0.0479      0.022500   \n",
              "42302         0.361   0.821    8    -3.102     1       0.0505      0.026000   \n",
              "42303         0.477   0.921    6    -4.777     0       0.0392      0.000551   \n",
              "42304         0.529   0.945    9    -5.862     1       0.0615      0.001890   \n",
              "\n",
              "       instrumentalness  liveness  valence  ...                      id  \\\n",
              "42300          0.000345    0.1210    0.394  ...  46bXU7Sgj7104ZoXxzz9tM   \n",
              "42301          0.000018    0.2050    0.383  ...  0he2ViGMUO3ajKTxLOfWVT   \n",
              "42302          0.000242    0.3850    0.124  ...  72DAt9Lbpy9EUS29OzQLob   \n",
              "42303          0.029600    0.0575    0.488  ...  6HXgExFVuE1c3cq9QjFCcU   \n",
              "42304          0.000055    0.4140    0.134  ...  6MAAMZImxcvYhRnxDLTufD   \n",
              "\n",
              "                                        uri  \\\n",
              "42300  spotify:track:46bXU7Sgj7104ZoXxzz9tM   \n",
              "42301  spotify:track:0he2ViGMUO3ajKTxLOfWVT   \n",
              "42302  spotify:track:72DAt9Lbpy9EUS29OzQLob   \n",
              "42303  spotify:track:6HXgExFVuE1c3cq9QjFCcU   \n",
              "42304  spotify:track:6MAAMZImxcvYhRnxDLTufD   \n",
              "\n",
              "                                              track_href  \\\n",
              "42300  https://api.spotify.com/v1/tracks/46bXU7Sgj710...   \n",
              "42301  https://api.spotify.com/v1/tracks/0he2ViGMUO3a...   \n",
              "42302  https://api.spotify.com/v1/tracks/72DAt9Lbpy9E...   \n",
              "42303  https://api.spotify.com/v1/tracks/6HXgExFVuE1c...   \n",
              "42304  https://api.spotify.com/v1/tracks/6MAAMZImxcvY...   \n",
              "\n",
              "                                            analysis_url duration_ms  \\\n",
              "42300  https://api.spotify.com/v1/audio-analysis/46bX...      269208   \n",
              "42301  https://api.spotify.com/v1/audio-analysis/0he2...      210112   \n",
              "42302  https://api.spotify.com/v1/audio-analysis/72DA...      234823   \n",
              "42303  https://api.spotify.com/v1/audio-analysis/6HXg...      323200   \n",
              "42304  https://api.spotify.com/v1/audio-analysis/6MAA...      162161   \n",
              "\n",
              "      time_signature      genre  song_name Unnamed: 0  \\\n",
              "42300              4  hardstyle        NaN    20995.0   \n",
              "42301              4  hardstyle        NaN    20996.0   \n",
              "42302              4  hardstyle        NaN    20997.0   \n",
              "42303              4  hardstyle        NaN    20998.0   \n",
              "42304              4  hardstyle        NaN    20999.0   \n",
              "\n",
              "                             title  \n",
              "42300           Euphoric Hardstyle  \n",
              "42301  Greatest Hardstyle Playlist  \n",
              "42302       Best of Hardstyle 2020  \n",
              "42303           Euphoric Hardstyle  \n",
              "42304       Best of Hardstyle 2020  \n",
              "\n",
              "[5 rows x 22 columns]"
            ],
            "text/html": [
              "\n",
              "  <div id=\"df-ec057a69-4d0e-4518-a977-c91aee03525d\">\n",
              "    <div class=\"colab-df-container\">\n",
              "      <div>\n",
              "<style scoped>\n",
              "    .dataframe tbody tr th:only-of-type {\n",
              "        vertical-align: middle;\n",
              "    }\n",
              "\n",
              "    .dataframe tbody tr th {\n",
              "        vertical-align: top;\n",
              "    }\n",
              "\n",
              "    .dataframe thead th {\n",
              "        text-align: right;\n",
              "    }\n",
              "</style>\n",
              "<table border=\"1\" class=\"dataframe\">\n",
              "  <thead>\n",
              "    <tr style=\"text-align: right;\">\n",
              "      <th></th>\n",
              "      <th>danceability</th>\n",
              "      <th>energy</th>\n",
              "      <th>key</th>\n",
              "      <th>loudness</th>\n",
              "      <th>mode</th>\n",
              "      <th>speechiness</th>\n",
              "      <th>acousticness</th>\n",
              "      <th>instrumentalness</th>\n",
              "      <th>liveness</th>\n",
              "      <th>valence</th>\n",
              "      <th>...</th>\n",
              "      <th>id</th>\n",
              "      <th>uri</th>\n",
              "      <th>track_href</th>\n",
              "      <th>analysis_url</th>\n",
              "      <th>duration_ms</th>\n",
              "      <th>time_signature</th>\n",
              "      <th>genre</th>\n",
              "      <th>song_name</th>\n",
              "      <th>Unnamed: 0</th>\n",
              "      <th>title</th>\n",
              "    </tr>\n",
              "  </thead>\n",
              "  <tbody>\n",
              "    <tr>\n",
              "      <th>42300</th>\n",
              "      <td>0.528</td>\n",
              "      <td>0.693</td>\n",
              "      <td>4</td>\n",
              "      <td>-5.148</td>\n",
              "      <td>1</td>\n",
              "      <td>0.0304</td>\n",
              "      <td>0.031500</td>\n",
              "      <td>0.000345</td>\n",
              "      <td>0.1210</td>\n",
              "      <td>0.394</td>\n",
              "      <td>...</td>\n",
              "      <td>46bXU7Sgj7104ZoXxzz9tM</td>\n",
              "      <td>spotify:track:46bXU7Sgj7104ZoXxzz9tM</td>\n",
              "      <td>https://api.spotify.com/v1/tracks/46bXU7Sgj710...</td>\n",
              "      <td>https://api.spotify.com/v1/audio-analysis/46bX...</td>\n",
              "      <td>269208</td>\n",
              "      <td>4</td>\n",
              "      <td>hardstyle</td>\n",
              "      <td>NaN</td>\n",
              "      <td>20995.0</td>\n",
              "      <td>Euphoric Hardstyle</td>\n",
              "    </tr>\n",
              "    <tr>\n",
              "      <th>42301</th>\n",
              "      <td>0.517</td>\n",
              "      <td>0.768</td>\n",
              "      <td>0</td>\n",
              "      <td>-7.922</td>\n",
              "      <td>0</td>\n",
              "      <td>0.0479</td>\n",
              "      <td>0.022500</td>\n",
              "      <td>0.000018</td>\n",
              "      <td>0.2050</td>\n",
              "      <td>0.383</td>\n",
              "      <td>...</td>\n",
              "      <td>0he2ViGMUO3ajKTxLOfWVT</td>\n",
              "      <td>spotify:track:0he2ViGMUO3ajKTxLOfWVT</td>\n",
              "      <td>https://api.spotify.com/v1/tracks/0he2ViGMUO3a...</td>\n",
              "      <td>https://api.spotify.com/v1/audio-analysis/0he2...</td>\n",
              "      <td>210112</td>\n",
              "      <td>4</td>\n",
              "      <td>hardstyle</td>\n",
              "      <td>NaN</td>\n",
              "      <td>20996.0</td>\n",
              "      <td>Greatest Hardstyle Playlist</td>\n",
              "    </tr>\n",
              "    <tr>\n",
              "      <th>42302</th>\n",
              "      <td>0.361</td>\n",
              "      <td>0.821</td>\n",
              "      <td>8</td>\n",
              "      <td>-3.102</td>\n",
              "      <td>1</td>\n",
              "      <td>0.0505</td>\n",
              "      <td>0.026000</td>\n",
              "      <td>0.000242</td>\n",
              "      <td>0.3850</td>\n",
              "      <td>0.124</td>\n",
              "      <td>...</td>\n",
              "      <td>72DAt9Lbpy9EUS29OzQLob</td>\n",
              "      <td>spotify:track:72DAt9Lbpy9EUS29OzQLob</td>\n",
              "      <td>https://api.spotify.com/v1/tracks/72DAt9Lbpy9E...</td>\n",
              "      <td>https://api.spotify.com/v1/audio-analysis/72DA...</td>\n",
              "      <td>234823</td>\n",
              "      <td>4</td>\n",
              "      <td>hardstyle</td>\n",
              "      <td>NaN</td>\n",
              "      <td>20997.0</td>\n",
              "      <td>Best of Hardstyle 2020</td>\n",
              "    </tr>\n",
              "    <tr>\n",
              "      <th>42303</th>\n",
              "      <td>0.477</td>\n",
              "      <td>0.921</td>\n",
              "      <td>6</td>\n",
              "      <td>-4.777</td>\n",
              "      <td>0</td>\n",
              "      <td>0.0392</td>\n",
              "      <td>0.000551</td>\n",
              "      <td>0.029600</td>\n",
              "      <td>0.0575</td>\n",
              "      <td>0.488</td>\n",
              "      <td>...</td>\n",
              "      <td>6HXgExFVuE1c3cq9QjFCcU</td>\n",
              "      <td>spotify:track:6HXgExFVuE1c3cq9QjFCcU</td>\n",
              "      <td>https://api.spotify.com/v1/tracks/6HXgExFVuE1c...</td>\n",
              "      <td>https://api.spotify.com/v1/audio-analysis/6HXg...</td>\n",
              "      <td>323200</td>\n",
              "      <td>4</td>\n",
              "      <td>hardstyle</td>\n",
              "      <td>NaN</td>\n",
              "      <td>20998.0</td>\n",
              "      <td>Euphoric Hardstyle</td>\n",
              "    </tr>\n",
              "    <tr>\n",
              "      <th>42304</th>\n",
              "      <td>0.529</td>\n",
              "      <td>0.945</td>\n",
              "      <td>9</td>\n",
              "      <td>-5.862</td>\n",
              "      <td>1</td>\n",
              "      <td>0.0615</td>\n",
              "      <td>0.001890</td>\n",
              "      <td>0.000055</td>\n",
              "      <td>0.4140</td>\n",
              "      <td>0.134</td>\n",
              "      <td>...</td>\n",
              "      <td>6MAAMZImxcvYhRnxDLTufD</td>\n",
              "      <td>spotify:track:6MAAMZImxcvYhRnxDLTufD</td>\n",
              "      <td>https://api.spotify.com/v1/tracks/6MAAMZImxcvY...</td>\n",
              "      <td>https://api.spotify.com/v1/audio-analysis/6MAA...</td>\n",
              "      <td>162161</td>\n",
              "      <td>4</td>\n",
              "      <td>hardstyle</td>\n",
              "      <td>NaN</td>\n",
              "      <td>20999.0</td>\n",
              "      <td>Best of Hardstyle 2020</td>\n",
              "    </tr>\n",
              "  </tbody>\n",
              "</table>\n",
              "<p>5 rows × 22 columns</p>\n",
              "</div>\n",
              "      <button class=\"colab-df-convert\" onclick=\"convertToInteractive('df-ec057a69-4d0e-4518-a977-c91aee03525d')\"\n",
              "              title=\"Convert this dataframe to an interactive table.\"\n",
              "              style=\"display:none;\">\n",
              "        \n",
              "  <svg xmlns=\"http://www.w3.org/2000/svg\" height=\"24px\"viewBox=\"0 0 24 24\"\n",
              "       width=\"24px\">\n",
              "    <path d=\"M0 0h24v24H0V0z\" fill=\"none\"/>\n",
              "    <path d=\"M18.56 5.44l.94 2.06.94-2.06 2.06-.94-2.06-.94-.94-2.06-.94 2.06-2.06.94zm-11 1L8.5 8.5l.94-2.06 2.06-.94-2.06-.94L8.5 2.5l-.94 2.06-2.06.94zm10 10l.94 2.06.94-2.06 2.06-.94-2.06-.94-.94-2.06-.94 2.06-2.06.94z\"/><path d=\"M17.41 7.96l-1.37-1.37c-.4-.4-.92-.59-1.43-.59-.52 0-1.04.2-1.43.59L10.3 9.45l-7.72 7.72c-.78.78-.78 2.05 0 2.83L4 21.41c.39.39.9.59 1.41.59.51 0 1.02-.2 1.41-.59l7.78-7.78 2.81-2.81c.8-.78.8-2.07 0-2.86zM5.41 20L4 18.59l7.72-7.72 1.47 1.35L5.41 20z\"/>\n",
              "  </svg>\n",
              "      </button>\n",
              "      \n",
              "  <style>\n",
              "    .colab-df-container {\n",
              "      display:flex;\n",
              "      flex-wrap:wrap;\n",
              "      gap: 12px;\n",
              "    }\n",
              "\n",
              "    .colab-df-convert {\n",
              "      background-color: #E8F0FE;\n",
              "      border: none;\n",
              "      border-radius: 50%;\n",
              "      cursor: pointer;\n",
              "      display: none;\n",
              "      fill: #1967D2;\n",
              "      height: 32px;\n",
              "      padding: 0 0 0 0;\n",
              "      width: 32px;\n",
              "    }\n",
              "\n",
              "    .colab-df-convert:hover {\n",
              "      background-color: #E2EBFA;\n",
              "      box-shadow: 0px 1px 2px rgba(60, 64, 67, 0.3), 0px 1px 3px 1px rgba(60, 64, 67, 0.15);\n",
              "      fill: #174EA6;\n",
              "    }\n",
              "\n",
              "    [theme=dark] .colab-df-convert {\n",
              "      background-color: #3B4455;\n",
              "      fill: #D2E3FC;\n",
              "    }\n",
              "\n",
              "    [theme=dark] .colab-df-convert:hover {\n",
              "      background-color: #434B5C;\n",
              "      box-shadow: 0px 1px 3px 1px rgba(0, 0, 0, 0.15);\n",
              "      filter: drop-shadow(0px 1px 2px rgba(0, 0, 0, 0.3));\n",
              "      fill: #FFFFFF;\n",
              "    }\n",
              "  </style>\n",
              "\n",
              "      <script>\n",
              "        const buttonEl =\n",
              "          document.querySelector('#df-ec057a69-4d0e-4518-a977-c91aee03525d button.colab-df-convert');\n",
              "        buttonEl.style.display =\n",
              "          google.colab.kernel.accessAllowed ? 'block' : 'none';\n",
              "\n",
              "        async function convertToInteractive(key) {\n",
              "          const element = document.querySelector('#df-ec057a69-4d0e-4518-a977-c91aee03525d');\n",
              "          const dataTable =\n",
              "            await google.colab.kernel.invokeFunction('convertToInteractive',\n",
              "                                                     [key], {});\n",
              "          if (!dataTable) return;\n",
              "\n",
              "          const docLinkHtml = 'Like what you see? Visit the ' +\n",
              "            '<a target=\"_blank\" href=https://colab.research.google.com/notebooks/data_table.ipynb>data table notebook</a>'\n",
              "            + ' to learn more about interactive tables.';\n",
              "          element.innerHTML = '';\n",
              "          dataTable['output_type'] = 'display_data';\n",
              "          await google.colab.output.renderOutput(dataTable, element);\n",
              "          const docLink = document.createElement('div');\n",
              "          docLink.innerHTML = docLinkHtml;\n",
              "          element.appendChild(docLink);\n",
              "        }\n",
              "      </script>\n",
              "    </div>\n",
              "  </div>\n",
              "  "
            ]
          },
          "metadata": {},
          "execution_count": 10
        }
      ],
      "source": [
        "df=pd.read_csv(\"/content/drive/MyDrive/DataSet/spotify.csv\")\n",
        "df.tail()"
      ]
    },
    {
      "cell_type": "code",
      "execution_count": 5,
      "id": "652f8ad4",
      "metadata": {
        "colab": {
          "base_uri": "https://localhost:8080/"
        },
        "id": "652f8ad4",
        "outputId": "9bfa4e14-f6b8-4b63-d5d4-18b610b570f4"
      },
      "outputs": [
        {
          "output_type": "execute_result",
          "data": {
            "text/plain": [
              "(42305, 22)"
            ]
          },
          "metadata": {},
          "execution_count": 5
        }
      ],
      "source": [
        "#how many records in given dataset\n",
        "df.shape"
      ]
    },
    {
      "cell_type": "code",
      "execution_count": 6,
      "id": "c6335252",
      "metadata": {
        "colab": {
          "base_uri": "https://localhost:8080/"
        },
        "id": "c6335252",
        "outputId": "b15d36bb-75df-4ec4-f070-b46856e68b7c"
      },
      "outputs": [
        {
          "output_type": "execute_result",
          "data": {
            "text/plain": [
              "danceability        float64\n",
              "energy              float64\n",
              "key                   int64\n",
              "loudness            float64\n",
              "mode                  int64\n",
              "speechiness         float64\n",
              "acousticness        float64\n",
              "instrumentalness    float64\n",
              "liveness            float64\n",
              "valence             float64\n",
              "tempo               float64\n",
              "type                 object\n",
              "id                   object\n",
              "uri                  object\n",
              "track_href           object\n",
              "analysis_url         object\n",
              "duration_ms           int64\n",
              "time_signature        int64\n",
              "genre                object\n",
              "song_name            object\n",
              "Unnamed: 0          float64\n",
              "title                object\n",
              "dtype: object"
            ]
          },
          "metadata": {},
          "execution_count": 6
        }
      ],
      "source": [
        "df.dtypes"
      ]
    },
    {
      "cell_type": "code",
      "execution_count": 7,
      "id": "0f30235f",
      "metadata": {
        "colab": {
          "base_uri": "https://localhost:8080/"
        },
        "id": "0f30235f",
        "outputId": "ee33eb52-056e-4e4a-9f0f-5aebb1c0dc26"
      },
      "outputs": [
        {
          "output_type": "execute_result",
          "data": {
            "text/plain": [
              "0"
            ]
          },
          "metadata": {},
          "execution_count": 7
        }
      ],
      "source": [
        "#To check duplicates rows\n",
        "df.duplicated().sum()"
      ]
    },
    {
      "cell_type": "code",
      "execution_count": 8,
      "id": "9d9f3a15",
      "metadata": {
        "colab": {
          "base_uri": "https://localhost:8080/"
        },
        "id": "9d9f3a15",
        "outputId": "6a67c93e-86a0-49d1-d205-b1dfd2915fd1"
      },
      "outputs": [
        {
          "output_type": "execute_result",
          "data": {
            "text/plain": [
              "danceability         0.000000\n",
              "energy               0.000000\n",
              "key                  0.000000\n",
              "loudness             0.000000\n",
              "mode                 0.000000\n",
              "speechiness          0.000000\n",
              "acousticness         0.000000\n",
              "instrumentalness     0.000000\n",
              "liveness             0.000000\n",
              "valence              0.000000\n",
              "tempo                0.000000\n",
              "type                 0.000000\n",
              "id                   0.000000\n",
              "uri                  0.000000\n",
              "track_href           0.000000\n",
              "analysis_url         0.000000\n",
              "duration_ms          0.000000\n",
              "time_signature       0.000000\n",
              "genre                0.000000\n",
              "song_name           49.133672\n",
              "Unnamed: 0          50.880511\n",
              "title               50.880511\n",
              "dtype: float64"
            ]
          },
          "metadata": {},
          "execution_count": 8
        }
      ],
      "source": [
        "#Find the percentage of null values in each column in given dataset\n",
        "df.isnull().sum()/df.shape[0]*100"
      ]
    },
    {
      "cell_type": "code",
      "source": [
        "from pandas.core.algorithms import unique\n",
        "df.drop('Unnamed: 0',axis=1,inplace=True)"
      ],
      "metadata": {
        "id": "tXMIr3EC3xjW"
      },
      "id": "tXMIr3EC3xjW",
      "execution_count": 12,
      "outputs": []
    },
    {
      "cell_type": "code",
      "execution_count": 18,
      "id": "354b46f4",
      "metadata": {
        "colab": {
          "base_uri": "https://localhost:8080/"
        },
        "id": "354b46f4",
        "outputId": "50e38235-fe55-402a-ac4a-5e04f1cc2059"
      },
      "outputs": [
        {
          "output_type": "execute_result",
          "data": {
            "text/plain": [
              "0    Forever\n",
              "Name: song_name, dtype: object"
            ]
          },
          "metadata": {},
          "execution_count": 18
        }
      ],
      "source": [
        "df['song_name'].mode()"
      ]
    },
    {
      "cell_type": "code",
      "execution_count": 19,
      "id": "44ecab34",
      "metadata": {
        "id": "44ecab34"
      },
      "outputs": [],
      "source": [
        "df['song_name'].fillna('NA', inplace=True)"
      ]
    },
    {
      "cell_type": "code",
      "execution_count": 20,
      "id": "8abf27f1",
      "metadata": {
        "id": "8abf27f1"
      },
      "outputs": [],
      "source": [
        "df['title'].fillna('NA', inplace=True)"
      ]
    },
    {
      "cell_type": "code",
      "execution_count": 21,
      "id": "9c4b30db",
      "metadata": {
        "colab": {
          "base_uri": "https://localhost:8080/"
        },
        "id": "9c4b30db",
        "outputId": "388351fe-903f-40ef-a76e-a3fe7863c734"
      },
      "outputs": [
        {
          "output_type": "execute_result",
          "data": {
            "text/plain": [
              "danceability        0\n",
              "energy              0\n",
              "key                 0\n",
              "loudness            0\n",
              "mode                0\n",
              "speechiness         0\n",
              "acousticness        0\n",
              "instrumentalness    0\n",
              "liveness            0\n",
              "valence             0\n",
              "tempo               0\n",
              "type                0\n",
              "id                  0\n",
              "uri                 0\n",
              "track_href          0\n",
              "analysis_url        0\n",
              "duration_ms         0\n",
              "time_signature      0\n",
              "genre               0\n",
              "song_name           0\n",
              "title               0\n",
              "dtype: int64"
            ]
          },
          "metadata": {},
          "execution_count": 21
        }
      ],
      "source": [
        "df.isnull().sum()"
      ]
    },
    {
      "cell_type": "code",
      "execution_count": 22,
      "id": "8d87f2e1",
      "metadata": {
        "colab": {
          "base_uri": "https://localhost:8080/"
        },
        "id": "8d87f2e1",
        "outputId": "769cb648-58b4-4c6c-8c1f-1734246f2538"
      },
      "outputs": [
        {
          "output_type": "execute_result",
          "data": {
            "text/plain": [
              "type            object\n",
              "id              object\n",
              "uri             object\n",
              "track_href      object\n",
              "analysis_url    object\n",
              "genre           object\n",
              "song_name       object\n",
              "title           object\n",
              "dtype: object"
            ]
          },
          "metadata": {},
          "execution_count": 22
        }
      ],
      "source": [
        "df_cat=df.select_dtypes(object)\n",
        "df_cat.dtypes"
      ]
    },
    {
      "cell_type": "code",
      "execution_count": 23,
      "id": "c8363664",
      "metadata": {
        "colab": {
          "base_uri": "https://localhost:8080/"
        },
        "id": "c8363664",
        "outputId": "eca709c1-2544-4e42-e4c4-2ef763d1fcfc"
      },
      "outputs": [
        {
          "output_type": "execute_result",
          "data": {
            "text/plain": [
              "danceability        float64\n",
              "energy              float64\n",
              "key                   int64\n",
              "loudness            float64\n",
              "mode                  int64\n",
              "speechiness         float64\n",
              "acousticness        float64\n",
              "instrumentalness    float64\n",
              "liveness            float64\n",
              "valence             float64\n",
              "tempo               float64\n",
              "duration_ms           int64\n",
              "time_signature        int64\n",
              "dtype: object"
            ]
          },
          "metadata": {},
          "execution_count": 23
        }
      ],
      "source": [
        "df_num=df.select_dtypes([\"int64\",\"float64\"])\n",
        "df_num.dtypes"
      ]
    },
    {
      "cell_type": "code",
      "execution_count": 24,
      "id": "a1ee0958",
      "metadata": {
        "id": "a1ee0958"
      },
      "outputs": [],
      "source": [
        "from sklearn.preprocessing import LabelEncoder\n",
        "\n",
        "for col in df_cat:\n",
        "    le=LabelEncoder()\n",
        "    df_cat[col]=le.fit_transform(df_cat[col])"
      ]
    },
    {
      "cell_type": "code",
      "execution_count": 25,
      "id": "bc52d4ac",
      "metadata": {
        "id": "bc52d4ac"
      },
      "outputs": [],
      "source": [
        "df_new=pd.concat([df_cat,df_num],axis=1)"
      ]
    },
    {
      "cell_type": "code",
      "execution_count": 26,
      "id": "b88afa86",
      "metadata": {
        "id": "b88afa86"
      },
      "outputs": [],
      "source": [
        "#select input and output from given dataset\n",
        "X=df_new.drop('mode',axis=1)\n",
        "Y=df_new['mode']"
      ]
    },
    {
      "cell_type": "code",
      "execution_count": 27,
      "id": "7ef28d19",
      "metadata": {
        "id": "7ef28d19"
      },
      "outputs": [],
      "source": [
        "#train test split\n",
        "from sklearn.model_selection import train_test_split\n",
        "X_train,X_test,Y_train,Y_test=train_test_split(X,Y,test_size=0.3,\n",
        "                                               random_state=1)"
      ]
    },
    {
      "cell_type": "code",
      "execution_count": 28,
      "id": "5f931d44",
      "metadata": {
        "id": "5f931d44"
      },
      "outputs": [],
      "source": [
        "#Apply StandardScaler on input X_train and X_test\n",
        "from sklearn.preprocessing import StandardScaler\n",
        "ss=StandardScaler()\n",
        "X_train=ss.fit_transform(X_train)#converts into numpy array\n",
        "X_test=ss.transform(X_test) #converts into numpy array"
      ]
    },
    {
      "cell_type": "code",
      "source": [
        "from sklearn.metrics import classification_report,confusion_matrix,accuracy_score\n",
        "\n",
        "#create function for train and test the model\n",
        "def create_model(model):\n",
        "    model.fit(X_train,Y_train)\n",
        "    Y_pred=model.predict(X_test)\n",
        "\n",
        "    #Accuracy score\n",
        "    accur = accuracy_score(Y_pred,Y_test)*100\n",
        "\n",
        "    #generate thye report\n",
        "    print(classification_report(Y_test,Y_pred))\n",
        "    print(\"Confusion Matrix:\\n\",confusion_matrix(Y_test,Y_pred))\n",
        "    print(\"Accurate\",accur,\"% \")\n",
        "    return model"
      ],
      "metadata": {
        "id": "B5I_F-DH6cXB"
      },
      "id": "B5I_F-DH6cXB",
      "execution_count": 31,
      "outputs": []
    },
    {
      "cell_type": "code",
      "execution_count": 32,
      "id": "428b8a1d",
      "metadata": {
        "colab": {
          "base_uri": "https://localhost:8080/"
        },
        "id": "428b8a1d",
        "outputId": "4ee8d4df-7203-4c84-dbb9-296c88efa26b"
      },
      "outputs": [
        {
          "output_type": "stream",
          "name": "stdout",
          "text": [
            "              precision    recall  f1-score   support\n",
            "\n",
            "           0       0.57      0.49      0.53      5684\n",
            "           1       0.63      0.69      0.66      7008\n",
            "\n",
            "    accuracy                           0.60     12692\n",
            "   macro avg       0.60      0.59      0.59     12692\n",
            "weighted avg       0.60      0.60      0.60     12692\n",
            "\n",
            "Confusion Matrix:\n",
            " [[2803 2881]\n",
            " [2156 4852]]\n",
            "Accurate 60.3135833595966 % \n"
          ]
        }
      ],
      "source": [
        "from sklearn.linear_model import LinearRegression\n",
        "lr=LogisticRegression()\n",
        "lr=create_model(lr)\n",
        "\n",
        "Y_pred = lr.predict(X_test)\n",
        "lr= accuracy_score(Y_pred,Y_test)"
      ]
    },
    {
      "cell_type": "code",
      "source": [
        "#Gaussian Naive bayes\n",
        "from sklearn.naive_bayes import GaussianNB\n",
        "gnb=GaussianNB()\n",
        "gnb=create_model(gnb)\n",
        "\n",
        "Y_pred = gnb.predict(X_test)\n",
        "gnb= accuracy_score(Y_pred,Y_test)"
      ],
      "metadata": {
        "colab": {
          "base_uri": "https://localhost:8080/"
        },
        "id": "--nl_QQj7TE5",
        "outputId": "02114936-74da-4d15-b96f-407dd206bec8"
      },
      "id": "--nl_QQj7TE5",
      "execution_count": 33,
      "outputs": [
        {
          "output_type": "stream",
          "name": "stdout",
          "text": [
            "              precision    recall  f1-score   support\n",
            "\n",
            "           0       0.56      0.56      0.56      5684\n",
            "           1       0.64      0.64      0.64      7008\n",
            "\n",
            "    accuracy                           0.60     12692\n",
            "   macro avg       0.60      0.60      0.60     12692\n",
            "weighted avg       0.60      0.60      0.60     12692\n",
            "\n",
            "Confusion Matrix:\n",
            " [[3162 2522]\n",
            " [2533 4475]]\n",
            "Accurate 60.171761739678544 % \n"
          ]
        }
      ]
    },
    {
      "cell_type": "code",
      "execution_count": 34,
      "id": "de6a8a97",
      "metadata": {
        "colab": {
          "base_uri": "https://localhost:8080/"
        },
        "id": "de6a8a97",
        "outputId": "56a09d2c-518f-4676-a7e4-e6c6efdb5a27"
      },
      "outputs": [
        {
          "output_type": "stream",
          "name": "stdout",
          "text": [
            "              precision    recall  f1-score   support\n",
            "\n",
            "           0       0.65      0.66      0.66      5684\n",
            "           1       0.72      0.71      0.72      7008\n",
            "\n",
            "    accuracy                           0.69     12692\n",
            "   macro avg       0.69      0.69      0.69     12692\n",
            "weighted avg       0.69      0.69      0.69     12692\n",
            "\n",
            "Confusion Matrix:\n",
            " [[3771 1913]\n",
            " [2043 4965]]\n",
            "Accurate 68.83075953356445 % \n"
          ]
        }
      ],
      "source": [
        "from sklearn.tree import DecisionTreeClassifier\n",
        "dt = DecisionTreeClassifier()\n",
        "dt=create_model(dt)\n",
        "\n",
        "#to create dataframe\n",
        "Y_pred = dt.predict(X_test)\n",
        "dt= accuracy_score(Y_pred,Y_test)"
      ]
    },
    {
      "cell_type": "code",
      "source": [
        "from sklearn.ensemble import RandomForestClassifier\n",
        "rf= RandomForestClassifier()\n",
        "rf=create_model(rf)\n",
        "\n",
        "#to create dataframe\n",
        "Y_pred = rf.predict(X_test)\n",
        "rf= accuracy_score(Y_pred,Y_test)"
      ],
      "metadata": {
        "colab": {
          "base_uri": "https://localhost:8080/"
        },
        "id": "lAXnWogp8CG6",
        "outputId": "0d0c502e-9f9b-499f-efcf-2ad3f935b6ef"
      },
      "id": "lAXnWogp8CG6",
      "execution_count": 35,
      "outputs": [
        {
          "output_type": "stream",
          "name": "stdout",
          "text": [
            "              precision    recall  f1-score   support\n",
            "\n",
            "           0       0.75      0.74      0.75      5684\n",
            "           1       0.79      0.80      0.80      7008\n",
            "\n",
            "    accuracy                           0.77     12692\n",
            "   macro avg       0.77      0.77      0.77     12692\n",
            "weighted avg       0.77      0.77      0.77     12692\n",
            "\n",
            "Confusion Matrix:\n",
            " [[4229 1455]\n",
            " [1423 5585]]\n",
            "Accurate 77.3242987708793 % \n"
          ]
        }
      ]
    },
    {
      "cell_type": "code",
      "source": [
        "from xgboost import XGBClassifier\n",
        "xgb= XGBClassifier()\n",
        "xgb=create_model(xgb)\n",
        "\n",
        "#to create dataframe\n",
        "Y_pred =xgb.predict(X_test)\n",
        "xgb= accuracy_score(Y_pred,Y_test)"
      ],
      "metadata": {
        "colab": {
          "base_uri": "https://localhost:8080/"
        },
        "id": "MS2dgtsG8Kn-",
        "outputId": "79e394c7-4f2c-41ba-e3eb-e29860737410"
      },
      "id": "MS2dgtsG8Kn-",
      "execution_count": 37,
      "outputs": [
        {
          "output_type": "stream",
          "name": "stdout",
          "text": [
            "              precision    recall  f1-score   support\n",
            "\n",
            "           0       0.71      0.68      0.70      5684\n",
            "           1       0.75      0.77      0.76      7008\n",
            "\n",
            "    accuracy                           0.73     12692\n",
            "   macro avg       0.73      0.73      0.73     12692\n",
            "weighted avg       0.73      0.73      0.73     12692\n",
            "\n",
            "Confusion Matrix:\n",
            " [[3871 1813]\n",
            " [1583 5425]]\n",
            "Accurate 73.24298770879294 % \n"
          ]
        }
      ]
    },
    {
      "cell_type": "code",
      "source": [
        "from sklearn.neighbors import KNeighborsClassifier\n",
        "knn=KNeighborsClassifier(n_neighbors=5,metric='minkowski',p=2)\n",
        "knn= KNeighborsClassifier()\n",
        "knn=create_model(knn)\n",
        "\n",
        "#to create dataframe\n",
        "Y_pred = knn.predict(X_test)\n",
        "knn= accuracy_score(Y_pred,Y_test)"
      ],
      "metadata": {
        "colab": {
          "base_uri": "https://localhost:8080/"
        },
        "id": "onV006nK8UEh",
        "outputId": "3cc40c7b-68b5-40d4-a013-e43cf287bd00"
      },
      "id": "onV006nK8UEh",
      "execution_count": 36,
      "outputs": [
        {
          "output_type": "stream",
          "name": "stdout",
          "text": [
            "              precision    recall  f1-score   support\n",
            "\n",
            "           0       0.58      0.55      0.56      5684\n",
            "           1       0.65      0.68      0.67      7008\n",
            "\n",
            "    accuracy                           0.62     12692\n",
            "   macro avg       0.62      0.61      0.62     12692\n",
            "weighted avg       0.62      0.62      0.62     12692\n",
            "\n",
            "Confusion Matrix:\n",
            " [[3111 2573]\n",
            " [2228 4780]]\n",
            "Accurate 62.17302237630003 % \n"
          ]
        }
      ]
    },
    {
      "cell_type": "code",
      "source": [
        "from sklearn.svm import LinearSVC\n",
        "svc=LinearSVC(random_state=1)\n",
        "svc= LinearSVC()\n",
        "svc=create_model(svc)\n",
        "\n",
        "#to create dataframe\n",
        "Y_pred = svc.predict(X_test)\n",
        "svc= accuracy_score(Y_pred,Y_test)"
      ],
      "metadata": {
        "colab": {
          "base_uri": "https://localhost:8080/"
        },
        "id": "6czUlmKq8d8x",
        "outputId": "fccde286-ba43-4de9-a374-4811328f0d57"
      },
      "id": "6czUlmKq8d8x",
      "execution_count": 38,
      "outputs": [
        {
          "output_type": "stream",
          "name": "stdout",
          "text": [
            "              precision    recall  f1-score   support\n",
            "\n",
            "           0       0.56      0.50      0.53      5684\n",
            "           1       0.63      0.69      0.66      7008\n",
            "\n",
            "    accuracy                           0.60     12692\n",
            "   macro avg       0.59      0.59      0.59     12692\n",
            "weighted avg       0.60      0.60      0.60     12692\n",
            "\n",
            "Confusion Matrix:\n",
            " [[2817 2867]\n",
            " [2190 4818]]\n",
            "Accurate 60.15600378190986 % \n"
          ]
        }
      ]
    },
    {
      "cell_type": "code",
      "source": [
        "from sklearn.ensemble import AdaBoostClassifier\n",
        "ada=AdaBoostClassifier(n_estimators=3,random_state=1)\n",
        "ada= AdaBoostClassifier()\n",
        "ada=create_model(ada)\n",
        "\n",
        "#to create dataframe\n",
        "Y_pred = ada.predict(X_test)\n",
        "ada= accuracy_score(Y_pred,Y_test)"
      ],
      "metadata": {
        "colab": {
          "base_uri": "https://localhost:8080/"
        },
        "id": "0SSrT4DN8mjJ",
        "outputId": "0ccc64ab-1b2b-4920-c899-05a4b2fc07e1"
      },
      "id": "0SSrT4DN8mjJ",
      "execution_count": 39,
      "outputs": [
        {
          "output_type": "stream",
          "name": "stdout",
          "text": [
            "              precision    recall  f1-score   support\n",
            "\n",
            "           0       0.68      0.64      0.66      5684\n",
            "           1       0.72      0.76      0.74      7008\n",
            "\n",
            "    accuracy                           0.71     12692\n",
            "   macro avg       0.70      0.70      0.70     12692\n",
            "weighted avg       0.70      0.71      0.70     12692\n",
            "\n",
            "Confusion Matrix:\n",
            " [[3644 2040]\n",
            " [1699 5309]]\n",
            "Accurate 70.54049795146548 % \n"
          ]
        }
      ]
    },
    {
      "cell_type": "code",
      "source": [
        "from sklearn.ensemble import GradientBoostingClassifier\n",
        "gbc= GradientBoostingClassifier()\n",
        "gbc=create_model(gbc)\n",
        "\n",
        "#to create dataframe\n",
        "Y_pred = gbc.predict(X_test)\n",
        "gbc= accuracy_score(Y_pred,Y_test)"
      ],
      "metadata": {
        "colab": {
          "base_uri": "https://localhost:8080/"
        },
        "id": "zEFMUD708u33",
        "outputId": "5a82ec0d-e1c0-4436-99da-e2e625688757"
      },
      "id": "zEFMUD708u33",
      "execution_count": 40,
      "outputs": [
        {
          "output_type": "stream",
          "name": "stdout",
          "text": [
            "              precision    recall  f1-score   support\n",
            "\n",
            "           0       0.69      0.65      0.67      5684\n",
            "           1       0.73      0.76      0.74      7008\n",
            "\n",
            "    accuracy                           0.71     12692\n",
            "   macro avg       0.71      0.70      0.70     12692\n",
            "weighted avg       0.71      0.71      0.71     12692\n",
            "\n",
            "Confusion Matrix:\n",
            " [[3681 2003]\n",
            " [1685 5323]]\n",
            "Accurate 70.94232587456666 % \n"
          ]
        }
      ]
    },
    {
      "cell_type": "code",
      "source": [
        "score = [lr,gnb,dt,rf,xgb,knn,svc,ada,gbc]\n",
        "Models = pd.DataFrame({'n_neighbors': [\"Logistic Regression\",\"Gaussian Naive Bayes\",\"Decision Tree\",\"Random Forest\",\"XGBoost\", \"K-Neighbors\",\"Support vector\",\"ADA BOOST\",\"Gradient Boost\"],'Score': score})\n",
        "Models.sort_values(by='Score',ascending=False)"
      ],
      "metadata": {
        "colab": {
          "base_uri": "https://localhost:8080/",
          "height": 331
        },
        "id": "Iu3wA3Yt80I_",
        "outputId": "ac7e962e-2027-43c4-e5c7-3e36d75a1ccf"
      },
      "id": "Iu3wA3Yt80I_",
      "execution_count": 41,
      "outputs": [
        {
          "output_type": "execute_result",
          "data": {
            "text/plain": [
              "            n_neighbors     Score\n",
              "3         Random Forest  0.773243\n",
              "4               XGBoost  0.732430\n",
              "8        Gradient Boost  0.709423\n",
              "7             ADA BOOST  0.705405\n",
              "2         Decision Tree  0.688308\n",
              "5           K-Neighbors  0.621730\n",
              "0   Logistic Regression  0.603136\n",
              "1  Gaussian Naive Bayes  0.601718\n",
              "6        Support vector  0.601560"
            ],
            "text/html": [
              "\n",
              "  <div id=\"df-25cb80d2-bcca-44d6-99f1-436d1dd12375\">\n",
              "    <div class=\"colab-df-container\">\n",
              "      <div>\n",
              "<style scoped>\n",
              "    .dataframe tbody tr th:only-of-type {\n",
              "        vertical-align: middle;\n",
              "    }\n",
              "\n",
              "    .dataframe tbody tr th {\n",
              "        vertical-align: top;\n",
              "    }\n",
              "\n",
              "    .dataframe thead th {\n",
              "        text-align: right;\n",
              "    }\n",
              "</style>\n",
              "<table border=\"1\" class=\"dataframe\">\n",
              "  <thead>\n",
              "    <tr style=\"text-align: right;\">\n",
              "      <th></th>\n",
              "      <th>n_neighbors</th>\n",
              "      <th>Score</th>\n",
              "    </tr>\n",
              "  </thead>\n",
              "  <tbody>\n",
              "    <tr>\n",
              "      <th>3</th>\n",
              "      <td>Random Forest</td>\n",
              "      <td>0.773243</td>\n",
              "    </tr>\n",
              "    <tr>\n",
              "      <th>4</th>\n",
              "      <td>XGBoost</td>\n",
              "      <td>0.732430</td>\n",
              "    </tr>\n",
              "    <tr>\n",
              "      <th>8</th>\n",
              "      <td>Gradient Boost</td>\n",
              "      <td>0.709423</td>\n",
              "    </tr>\n",
              "    <tr>\n",
              "      <th>7</th>\n",
              "      <td>ADA BOOST</td>\n",
              "      <td>0.705405</td>\n",
              "    </tr>\n",
              "    <tr>\n",
              "      <th>2</th>\n",
              "      <td>Decision Tree</td>\n",
              "      <td>0.688308</td>\n",
              "    </tr>\n",
              "    <tr>\n",
              "      <th>5</th>\n",
              "      <td>K-Neighbors</td>\n",
              "      <td>0.621730</td>\n",
              "    </tr>\n",
              "    <tr>\n",
              "      <th>0</th>\n",
              "      <td>Logistic Regression</td>\n",
              "      <td>0.603136</td>\n",
              "    </tr>\n",
              "    <tr>\n",
              "      <th>1</th>\n",
              "      <td>Gaussian Naive Bayes</td>\n",
              "      <td>0.601718</td>\n",
              "    </tr>\n",
              "    <tr>\n",
              "      <th>6</th>\n",
              "      <td>Support vector</td>\n",
              "      <td>0.601560</td>\n",
              "    </tr>\n",
              "  </tbody>\n",
              "</table>\n",
              "</div>\n",
              "      <button class=\"colab-df-convert\" onclick=\"convertToInteractive('df-25cb80d2-bcca-44d6-99f1-436d1dd12375')\"\n",
              "              title=\"Convert this dataframe to an interactive table.\"\n",
              "              style=\"display:none;\">\n",
              "        \n",
              "  <svg xmlns=\"http://www.w3.org/2000/svg\" height=\"24px\"viewBox=\"0 0 24 24\"\n",
              "       width=\"24px\">\n",
              "    <path d=\"M0 0h24v24H0V0z\" fill=\"none\"/>\n",
              "    <path d=\"M18.56 5.44l.94 2.06.94-2.06 2.06-.94-2.06-.94-.94-2.06-.94 2.06-2.06.94zm-11 1L8.5 8.5l.94-2.06 2.06-.94-2.06-.94L8.5 2.5l-.94 2.06-2.06.94zm10 10l.94 2.06.94-2.06 2.06-.94-2.06-.94-.94-2.06-.94 2.06-2.06.94z\"/><path d=\"M17.41 7.96l-1.37-1.37c-.4-.4-.92-.59-1.43-.59-.52 0-1.04.2-1.43.59L10.3 9.45l-7.72 7.72c-.78.78-.78 2.05 0 2.83L4 21.41c.39.39.9.59 1.41.59.51 0 1.02-.2 1.41-.59l7.78-7.78 2.81-2.81c.8-.78.8-2.07 0-2.86zM5.41 20L4 18.59l7.72-7.72 1.47 1.35L5.41 20z\"/>\n",
              "  </svg>\n",
              "      </button>\n",
              "      \n",
              "  <style>\n",
              "    .colab-df-container {\n",
              "      display:flex;\n",
              "      flex-wrap:wrap;\n",
              "      gap: 12px;\n",
              "    }\n",
              "\n",
              "    .colab-df-convert {\n",
              "      background-color: #E8F0FE;\n",
              "      border: none;\n",
              "      border-radius: 50%;\n",
              "      cursor: pointer;\n",
              "      display: none;\n",
              "      fill: #1967D2;\n",
              "      height: 32px;\n",
              "      padding: 0 0 0 0;\n",
              "      width: 32px;\n",
              "    }\n",
              "\n",
              "    .colab-df-convert:hover {\n",
              "      background-color: #E2EBFA;\n",
              "      box-shadow: 0px 1px 2px rgba(60, 64, 67, 0.3), 0px 1px 3px 1px rgba(60, 64, 67, 0.15);\n",
              "      fill: #174EA6;\n",
              "    }\n",
              "\n",
              "    [theme=dark] .colab-df-convert {\n",
              "      background-color: #3B4455;\n",
              "      fill: #D2E3FC;\n",
              "    }\n",
              "\n",
              "    [theme=dark] .colab-df-convert:hover {\n",
              "      background-color: #434B5C;\n",
              "      box-shadow: 0px 1px 3px 1px rgba(0, 0, 0, 0.15);\n",
              "      filter: drop-shadow(0px 1px 2px rgba(0, 0, 0, 0.3));\n",
              "      fill: #FFFFFF;\n",
              "    }\n",
              "  </style>\n",
              "\n",
              "      <script>\n",
              "        const buttonEl =\n",
              "          document.querySelector('#df-25cb80d2-bcca-44d6-99f1-436d1dd12375 button.colab-df-convert');\n",
              "        buttonEl.style.display =\n",
              "          google.colab.kernel.accessAllowed ? 'block' : 'none';\n",
              "\n",
              "        async function convertToInteractive(key) {\n",
              "          const element = document.querySelector('#df-25cb80d2-bcca-44d6-99f1-436d1dd12375');\n",
              "          const dataTable =\n",
              "            await google.colab.kernel.invokeFunction('convertToInteractive',\n",
              "                                                     [key], {});\n",
              "          if (!dataTable) return;\n",
              "\n",
              "          const docLinkHtml = 'Like what you see? Visit the ' +\n",
              "            '<a target=\"_blank\" href=https://colab.research.google.com/notebooks/data_table.ipynb>data table notebook</a>'\n",
              "            + ' to learn more about interactive tables.';\n",
              "          element.innerHTML = '';\n",
              "          dataTable['output_type'] = 'display_data';\n",
              "          await google.colab.output.renderOutput(dataTable, element);\n",
              "          const docLink = document.createElement('div');\n",
              "          docLink.innerHTML = docLinkHtml;\n",
              "          element.appendChild(docLink);\n",
              "        }\n",
              "      </script>\n",
              "    </div>\n",
              "  </div>\n",
              "  "
            ]
          },
          "metadata": {},
          "execution_count": 41
        }
      ]
    },
    {
      "cell_type": "code",
      "source": [
        "#CONCLUSION\n",
        "'''\n",
        "from the above list we get to know that for this Spotify dataset RandomForest\n",
        "alogorithm is best with the result of the 77.32% .\n",
        "'''"
      ],
      "metadata": {
        "id": "UJ3tLlC889pA"
      },
      "id": "UJ3tLlC889pA",
      "execution_count": null,
      "outputs": []
    }
  ],
  "metadata": {
    "kernelspec": {
      "display_name": "Python 3 (ipykernel)",
      "language": "python",
      "name": "python3"
    },
    "language_info": {
      "codemirror_mode": {
        "name": "ipython",
        "version": 3
      },
      "file_extension": ".py",
      "mimetype": "text/x-python",
      "name": "python",
      "nbconvert_exporter": "python",
      "pygments_lexer": "ipython3",
      "version": "3.9.12"
    },
    "colab": {
      "provenance": []
    }
  },
  "nbformat": 4,
  "nbformat_minor": 5
}