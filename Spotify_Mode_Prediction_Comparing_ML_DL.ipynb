{
  "cells": [
    {
      "cell_type": "code",
      "source": [
        "from google.colab import drive\n",
        "drive.mount('/content/drive')"
      ],
      "metadata": {
        "colab": {
          "base_uri": "https://localhost:8080/"
        },
        "id": "cVG_NfbU2kKE",
        "outputId": "52656e8e-73b8-4f5a-e57f-d1a4bfa4be14"
      },
      "id": "cVG_NfbU2kKE",
      "execution_count": 1,
      "outputs": [
        {
          "output_type": "stream",
          "name": "stdout",
          "text": [
            "Drive already mounted at /content/drive; to attempt to forcibly remount, call drive.mount(\"/content/drive\", force_remount=True).\n"
          ]
        }
      ]
    },
    {
      "cell_type": "code",
      "execution_count": 2,
      "id": "310b865e",
      "metadata": {
        "id": "310b865e"
      },
      "outputs": [],
      "source": [
        "import numpy as  np\n",
        "import pandas as pd\n",
        "import matplotlib.pyplot as plt\n",
        "import seaborn as sns\n",
        "import warnings\n",
        "warnings.filterwarnings('ignore')\n",
        "\n",
        "\n",
        "from sklearn.model_selection import train_test_split\n",
        "from sklearn.preprocessing import StandardScaler\n",
        "from sklearn.linear_model import LogisticRegression\n",
        "from sklearn.metrics import classification_report, confusion_matrix"
      ]
    },
    {
      "cell_type": "code",
      "execution_count": 3,
      "id": "b0822adb",
      "metadata": {
        "colab": {
          "base_uri": "https://localhost:8080/",
          "height": 455
        },
        "id": "b0822adb",
        "outputId": "918c0afa-1160-428e-b1dc-c9d1ae26fd3f"
      },
      "outputs": [
        {
          "output_type": "execute_result",
          "data": {
            "text/plain": [
              "       danceability  energy  key  loudness  mode  speechiness  acousticness  \\\n",
              "42300         0.528   0.693    4    -5.148     1       0.0304      0.031500   \n",
              "42301         0.517   0.768    0    -7.922     0       0.0479      0.022500   \n",
              "42302         0.361   0.821    8    -3.102     1       0.0505      0.026000   \n",
              "42303         0.477   0.921    6    -4.777     0       0.0392      0.000551   \n",
              "42304         0.529   0.945    9    -5.862     1       0.0615      0.001890   \n",
              "\n",
              "       instrumentalness  liveness  valence  ...                      id  \\\n",
              "42300          0.000345    0.1210    0.394  ...  46bXU7Sgj7104ZoXxzz9tM   \n",
              "42301          0.000018    0.2050    0.383  ...  0he2ViGMUO3ajKTxLOfWVT   \n",
              "42302          0.000242    0.3850    0.124  ...  72DAt9Lbpy9EUS29OzQLob   \n",
              "42303          0.029600    0.0575    0.488  ...  6HXgExFVuE1c3cq9QjFCcU   \n",
              "42304          0.000055    0.4140    0.134  ...  6MAAMZImxcvYhRnxDLTufD   \n",
              "\n",
              "                                        uri  \\\n",
              "42300  spotify:track:46bXU7Sgj7104ZoXxzz9tM   \n",
              "42301  spotify:track:0he2ViGMUO3ajKTxLOfWVT   \n",
              "42302  spotify:track:72DAt9Lbpy9EUS29OzQLob   \n",
              "42303  spotify:track:6HXgExFVuE1c3cq9QjFCcU   \n",
              "42304  spotify:track:6MAAMZImxcvYhRnxDLTufD   \n",
              "\n",
              "                                              track_href  \\\n",
              "42300  https://api.spotify.com/v1/tracks/46bXU7Sgj710...   \n",
              "42301  https://api.spotify.com/v1/tracks/0he2ViGMUO3a...   \n",
              "42302  https://api.spotify.com/v1/tracks/72DAt9Lbpy9E...   \n",
              "42303  https://api.spotify.com/v1/tracks/6HXgExFVuE1c...   \n",
              "42304  https://api.spotify.com/v1/tracks/6MAAMZImxcvY...   \n",
              "\n",
              "                                            analysis_url duration_ms  \\\n",
              "42300  https://api.spotify.com/v1/audio-analysis/46bX...      269208   \n",
              "42301  https://api.spotify.com/v1/audio-analysis/0he2...      210112   \n",
              "42302  https://api.spotify.com/v1/audio-analysis/72DA...      234823   \n",
              "42303  https://api.spotify.com/v1/audio-analysis/6HXg...      323200   \n",
              "42304  https://api.spotify.com/v1/audio-analysis/6MAA...      162161   \n",
              "\n",
              "      time_signature      genre  song_name Unnamed: 0  \\\n",
              "42300              4  hardstyle        NaN    20995.0   \n",
              "42301              4  hardstyle        NaN    20996.0   \n",
              "42302              4  hardstyle        NaN    20997.0   \n",
              "42303              4  hardstyle        NaN    20998.0   \n",
              "42304              4  hardstyle        NaN    20999.0   \n",
              "\n",
              "                             title  \n",
              "42300           Euphoric Hardstyle  \n",
              "42301  Greatest Hardstyle Playlist  \n",
              "42302       Best of Hardstyle 2020  \n",
              "42303           Euphoric Hardstyle  \n",
              "42304       Best of Hardstyle 2020  \n",
              "\n",
              "[5 rows x 22 columns]"
            ],
            "text/html": [
              "\n",
              "  <div id=\"df-26e93d01-904c-4108-be37-93454f663421\">\n",
              "    <div class=\"colab-df-container\">\n",
              "      <div>\n",
              "<style scoped>\n",
              "    .dataframe tbody tr th:only-of-type {\n",
              "        vertical-align: middle;\n",
              "    }\n",
              "\n",
              "    .dataframe tbody tr th {\n",
              "        vertical-align: top;\n",
              "    }\n",
              "\n",
              "    .dataframe thead th {\n",
              "        text-align: right;\n",
              "    }\n",
              "</style>\n",
              "<table border=\"1\" class=\"dataframe\">\n",
              "  <thead>\n",
              "    <tr style=\"text-align: right;\">\n",
              "      <th></th>\n",
              "      <th>danceability</th>\n",
              "      <th>energy</th>\n",
              "      <th>key</th>\n",
              "      <th>loudness</th>\n",
              "      <th>mode</th>\n",
              "      <th>speechiness</th>\n",
              "      <th>acousticness</th>\n",
              "      <th>instrumentalness</th>\n",
              "      <th>liveness</th>\n",
              "      <th>valence</th>\n",
              "      <th>...</th>\n",
              "      <th>id</th>\n",
              "      <th>uri</th>\n",
              "      <th>track_href</th>\n",
              "      <th>analysis_url</th>\n",
              "      <th>duration_ms</th>\n",
              "      <th>time_signature</th>\n",
              "      <th>genre</th>\n",
              "      <th>song_name</th>\n",
              "      <th>Unnamed: 0</th>\n",
              "      <th>title</th>\n",
              "    </tr>\n",
              "  </thead>\n",
              "  <tbody>\n",
              "    <tr>\n",
              "      <th>42300</th>\n",
              "      <td>0.528</td>\n",
              "      <td>0.693</td>\n",
              "      <td>4</td>\n",
              "      <td>-5.148</td>\n",
              "      <td>1</td>\n",
              "      <td>0.0304</td>\n",
              "      <td>0.031500</td>\n",
              "      <td>0.000345</td>\n",
              "      <td>0.1210</td>\n",
              "      <td>0.394</td>\n",
              "      <td>...</td>\n",
              "      <td>46bXU7Sgj7104ZoXxzz9tM</td>\n",
              "      <td>spotify:track:46bXU7Sgj7104ZoXxzz9tM</td>\n",
              "      <td>https://api.spotify.com/v1/tracks/46bXU7Sgj710...</td>\n",
              "      <td>https://api.spotify.com/v1/audio-analysis/46bX...</td>\n",
              "      <td>269208</td>\n",
              "      <td>4</td>\n",
              "      <td>hardstyle</td>\n",
              "      <td>NaN</td>\n",
              "      <td>20995.0</td>\n",
              "      <td>Euphoric Hardstyle</td>\n",
              "    </tr>\n",
              "    <tr>\n",
              "      <th>42301</th>\n",
              "      <td>0.517</td>\n",
              "      <td>0.768</td>\n",
              "      <td>0</td>\n",
              "      <td>-7.922</td>\n",
              "      <td>0</td>\n",
              "      <td>0.0479</td>\n",
              "      <td>0.022500</td>\n",
              "      <td>0.000018</td>\n",
              "      <td>0.2050</td>\n",
              "      <td>0.383</td>\n",
              "      <td>...</td>\n",
              "      <td>0he2ViGMUO3ajKTxLOfWVT</td>\n",
              "      <td>spotify:track:0he2ViGMUO3ajKTxLOfWVT</td>\n",
              "      <td>https://api.spotify.com/v1/tracks/0he2ViGMUO3a...</td>\n",
              "      <td>https://api.spotify.com/v1/audio-analysis/0he2...</td>\n",
              "      <td>210112</td>\n",
              "      <td>4</td>\n",
              "      <td>hardstyle</td>\n",
              "      <td>NaN</td>\n",
              "      <td>20996.0</td>\n",
              "      <td>Greatest Hardstyle Playlist</td>\n",
              "    </tr>\n",
              "    <tr>\n",
              "      <th>42302</th>\n",
              "      <td>0.361</td>\n",
              "      <td>0.821</td>\n",
              "      <td>8</td>\n",
              "      <td>-3.102</td>\n",
              "      <td>1</td>\n",
              "      <td>0.0505</td>\n",
              "      <td>0.026000</td>\n",
              "      <td>0.000242</td>\n",
              "      <td>0.3850</td>\n",
              "      <td>0.124</td>\n",
              "      <td>...</td>\n",
              "      <td>72DAt9Lbpy9EUS29OzQLob</td>\n",
              "      <td>spotify:track:72DAt9Lbpy9EUS29OzQLob</td>\n",
              "      <td>https://api.spotify.com/v1/tracks/72DAt9Lbpy9E...</td>\n",
              "      <td>https://api.spotify.com/v1/audio-analysis/72DA...</td>\n",
              "      <td>234823</td>\n",
              "      <td>4</td>\n",
              "      <td>hardstyle</td>\n",
              "      <td>NaN</td>\n",
              "      <td>20997.0</td>\n",
              "      <td>Best of Hardstyle 2020</td>\n",
              "    </tr>\n",
              "    <tr>\n",
              "      <th>42303</th>\n",
              "      <td>0.477</td>\n",
              "      <td>0.921</td>\n",
              "      <td>6</td>\n",
              "      <td>-4.777</td>\n",
              "      <td>0</td>\n",
              "      <td>0.0392</td>\n",
              "      <td>0.000551</td>\n",
              "      <td>0.029600</td>\n",
              "      <td>0.0575</td>\n",
              "      <td>0.488</td>\n",
              "      <td>...</td>\n",
              "      <td>6HXgExFVuE1c3cq9QjFCcU</td>\n",
              "      <td>spotify:track:6HXgExFVuE1c3cq9QjFCcU</td>\n",
              "      <td>https://api.spotify.com/v1/tracks/6HXgExFVuE1c...</td>\n",
              "      <td>https://api.spotify.com/v1/audio-analysis/6HXg...</td>\n",
              "      <td>323200</td>\n",
              "      <td>4</td>\n",
              "      <td>hardstyle</td>\n",
              "      <td>NaN</td>\n",
              "      <td>20998.0</td>\n",
              "      <td>Euphoric Hardstyle</td>\n",
              "    </tr>\n",
              "    <tr>\n",
              "      <th>42304</th>\n",
              "      <td>0.529</td>\n",
              "      <td>0.945</td>\n",
              "      <td>9</td>\n",
              "      <td>-5.862</td>\n",
              "      <td>1</td>\n",
              "      <td>0.0615</td>\n",
              "      <td>0.001890</td>\n",
              "      <td>0.000055</td>\n",
              "      <td>0.4140</td>\n",
              "      <td>0.134</td>\n",
              "      <td>...</td>\n",
              "      <td>6MAAMZImxcvYhRnxDLTufD</td>\n",
              "      <td>spotify:track:6MAAMZImxcvYhRnxDLTufD</td>\n",
              "      <td>https://api.spotify.com/v1/tracks/6MAAMZImxcvY...</td>\n",
              "      <td>https://api.spotify.com/v1/audio-analysis/6MAA...</td>\n",
              "      <td>162161</td>\n",
              "      <td>4</td>\n",
              "      <td>hardstyle</td>\n",
              "      <td>NaN</td>\n",
              "      <td>20999.0</td>\n",
              "      <td>Best of Hardstyle 2020</td>\n",
              "    </tr>\n",
              "  </tbody>\n",
              "</table>\n",
              "<p>5 rows × 22 columns</p>\n",
              "</div>\n",
              "      <button class=\"colab-df-convert\" onclick=\"convertToInteractive('df-26e93d01-904c-4108-be37-93454f663421')\"\n",
              "              title=\"Convert this dataframe to an interactive table.\"\n",
              "              style=\"display:none;\">\n",
              "        \n",
              "  <svg xmlns=\"http://www.w3.org/2000/svg\" height=\"24px\"viewBox=\"0 0 24 24\"\n",
              "       width=\"24px\">\n",
              "    <path d=\"M0 0h24v24H0V0z\" fill=\"none\"/>\n",
              "    <path d=\"M18.56 5.44l.94 2.06.94-2.06 2.06-.94-2.06-.94-.94-2.06-.94 2.06-2.06.94zm-11 1L8.5 8.5l.94-2.06 2.06-.94-2.06-.94L8.5 2.5l-.94 2.06-2.06.94zm10 10l.94 2.06.94-2.06 2.06-.94-2.06-.94-.94-2.06-.94 2.06-2.06.94z\"/><path d=\"M17.41 7.96l-1.37-1.37c-.4-.4-.92-.59-1.43-.59-.52 0-1.04.2-1.43.59L10.3 9.45l-7.72 7.72c-.78.78-.78 2.05 0 2.83L4 21.41c.39.39.9.59 1.41.59.51 0 1.02-.2 1.41-.59l7.78-7.78 2.81-2.81c.8-.78.8-2.07 0-2.86zM5.41 20L4 18.59l7.72-7.72 1.47 1.35L5.41 20z\"/>\n",
              "  </svg>\n",
              "      </button>\n",
              "      \n",
              "  <style>\n",
              "    .colab-df-container {\n",
              "      display:flex;\n",
              "      flex-wrap:wrap;\n",
              "      gap: 12px;\n",
              "    }\n",
              "\n",
              "    .colab-df-convert {\n",
              "      background-color: #E8F0FE;\n",
              "      border: none;\n",
              "      border-radius: 50%;\n",
              "      cursor: pointer;\n",
              "      display: none;\n",
              "      fill: #1967D2;\n",
              "      height: 32px;\n",
              "      padding: 0 0 0 0;\n",
              "      width: 32px;\n",
              "    }\n",
              "\n",
              "    .colab-df-convert:hover {\n",
              "      background-color: #E2EBFA;\n",
              "      box-shadow: 0px 1px 2px rgba(60, 64, 67, 0.3), 0px 1px 3px 1px rgba(60, 64, 67, 0.15);\n",
              "      fill: #174EA6;\n",
              "    }\n",
              "\n",
              "    [theme=dark] .colab-df-convert {\n",
              "      background-color: #3B4455;\n",
              "      fill: #D2E3FC;\n",
              "    }\n",
              "\n",
              "    [theme=dark] .colab-df-convert:hover {\n",
              "      background-color: #434B5C;\n",
              "      box-shadow: 0px 1px 3px 1px rgba(0, 0, 0, 0.15);\n",
              "      filter: drop-shadow(0px 1px 2px rgba(0, 0, 0, 0.3));\n",
              "      fill: #FFFFFF;\n",
              "    }\n",
              "  </style>\n",
              "\n",
              "      <script>\n",
              "        const buttonEl =\n",
              "          document.querySelector('#df-26e93d01-904c-4108-be37-93454f663421 button.colab-df-convert');\n",
              "        buttonEl.style.display =\n",
              "          google.colab.kernel.accessAllowed ? 'block' : 'none';\n",
              "\n",
              "        async function convertToInteractive(key) {\n",
              "          const element = document.querySelector('#df-26e93d01-904c-4108-be37-93454f663421');\n",
              "          const dataTable =\n",
              "            await google.colab.kernel.invokeFunction('convertToInteractive',\n",
              "                                                     [key], {});\n",
              "          if (!dataTable) return;\n",
              "\n",
              "          const docLinkHtml = 'Like what you see? Visit the ' +\n",
              "            '<a target=\"_blank\" href=https://colab.research.google.com/notebooks/data_table.ipynb>data table notebook</a>'\n",
              "            + ' to learn more about interactive tables.';\n",
              "          element.innerHTML = '';\n",
              "          dataTable['output_type'] = 'display_data';\n",
              "          await google.colab.output.renderOutput(dataTable, element);\n",
              "          const docLink = document.createElement('div');\n",
              "          docLink.innerHTML = docLinkHtml;\n",
              "          element.appendChild(docLink);\n",
              "        }\n",
              "      </script>\n",
              "    </div>\n",
              "  </div>\n",
              "  "
            ]
          },
          "metadata": {},
          "execution_count": 3
        }
      ],
      "source": [
        "df=pd.read_csv(\"/content/drive/MyDrive/DataSet/spotify.csv\")\n",
        "df.tail()"
      ]
    },
    {
      "cell_type": "markdown",
      "source": [
        "##EDA"
      ],
      "metadata": {
        "id": "luBu7lIB-kI5"
      },
      "id": "luBu7lIB-kI5"
    },
    {
      "cell_type": "code",
      "execution_count": 4,
      "id": "652f8ad4",
      "metadata": {
        "colab": {
          "base_uri": "https://localhost:8080/"
        },
        "id": "652f8ad4",
        "outputId": "81dfe8d6-ae7d-4496-96f8-eb91b74dd6b9"
      },
      "outputs": [
        {
          "output_type": "execute_result",
          "data": {
            "text/plain": [
              "(42305, 22)"
            ]
          },
          "metadata": {},
          "execution_count": 4
        }
      ],
      "source": [
        "#how many records in given dataset\n",
        "df.shape"
      ]
    },
    {
      "cell_type": "code",
      "execution_count": 5,
      "id": "c6335252",
      "metadata": {
        "colab": {
          "base_uri": "https://localhost:8080/"
        },
        "id": "c6335252",
        "outputId": "97848a80-70ac-482c-a87c-3915daf45afe"
      },
      "outputs": [
        {
          "output_type": "execute_result",
          "data": {
            "text/plain": [
              "danceability        float64\n",
              "energy              float64\n",
              "key                   int64\n",
              "loudness            float64\n",
              "mode                  int64\n",
              "speechiness         float64\n",
              "acousticness        float64\n",
              "instrumentalness    float64\n",
              "liveness            float64\n",
              "valence             float64\n",
              "tempo               float64\n",
              "type                 object\n",
              "id                   object\n",
              "uri                  object\n",
              "track_href           object\n",
              "analysis_url         object\n",
              "duration_ms           int64\n",
              "time_signature        int64\n",
              "genre                object\n",
              "song_name            object\n",
              "Unnamed: 0          float64\n",
              "title                object\n",
              "dtype: object"
            ]
          },
          "metadata": {},
          "execution_count": 5
        }
      ],
      "source": [
        "df.dtypes"
      ]
    },
    {
      "cell_type": "code",
      "execution_count": 6,
      "id": "0f30235f",
      "metadata": {
        "colab": {
          "base_uri": "https://localhost:8080/"
        },
        "id": "0f30235f",
        "outputId": "eb086dab-2018-428b-feaa-26d7d3d67343"
      },
      "outputs": [
        {
          "output_type": "execute_result",
          "data": {
            "text/plain": [
              "0"
            ]
          },
          "metadata": {},
          "execution_count": 6
        }
      ],
      "source": [
        "#To check duplicates rows\n",
        "df.duplicated().sum()"
      ]
    },
    {
      "cell_type": "code",
      "execution_count": 7,
      "id": "9d9f3a15",
      "metadata": {
        "colab": {
          "base_uri": "https://localhost:8080/"
        },
        "id": "9d9f3a15",
        "outputId": "2f216ee6-1e51-4a54-bd7e-98c313d9adee"
      },
      "outputs": [
        {
          "output_type": "execute_result",
          "data": {
            "text/plain": [
              "danceability         0.000000\n",
              "energy               0.000000\n",
              "key                  0.000000\n",
              "loudness             0.000000\n",
              "mode                 0.000000\n",
              "speechiness          0.000000\n",
              "acousticness         0.000000\n",
              "instrumentalness     0.000000\n",
              "liveness             0.000000\n",
              "valence              0.000000\n",
              "tempo                0.000000\n",
              "type                 0.000000\n",
              "id                   0.000000\n",
              "uri                  0.000000\n",
              "track_href           0.000000\n",
              "analysis_url         0.000000\n",
              "duration_ms          0.000000\n",
              "time_signature       0.000000\n",
              "genre                0.000000\n",
              "song_name           49.133672\n",
              "Unnamed: 0          50.880511\n",
              "title               50.880511\n",
              "dtype: float64"
            ]
          },
          "metadata": {},
          "execution_count": 7
        }
      ],
      "source": [
        "#Find the percentage of null values in each column in given dataset\n",
        "df.isnull().sum()/df.shape[0]*100"
      ]
    },
    {
      "cell_type": "code",
      "source": [
        "from pandas.core.algorithms import unique\n",
        "df.drop('Unnamed: 0',axis=1,inplace=True)"
      ],
      "metadata": {
        "id": "tXMIr3EC3xjW"
      },
      "id": "tXMIr3EC3xjW",
      "execution_count": 8,
      "outputs": []
    },
    {
      "cell_type": "code",
      "execution_count": 9,
      "id": "354b46f4",
      "metadata": {
        "colab": {
          "base_uri": "https://localhost:8080/"
        },
        "id": "354b46f4",
        "outputId": "af865839-3656-48c7-bee1-fcbb03b56b62"
      },
      "outputs": [
        {
          "output_type": "execute_result",
          "data": {
            "text/plain": [
              "0    Forever\n",
              "Name: song_name, dtype: object"
            ]
          },
          "metadata": {},
          "execution_count": 9
        }
      ],
      "source": [
        "df['song_name'].mode()"
      ]
    },
    {
      "cell_type": "code",
      "execution_count": 10,
      "id": "44ecab34",
      "metadata": {
        "id": "44ecab34"
      },
      "outputs": [],
      "source": [
        "df['song_name'].fillna('NA', inplace=True)"
      ]
    },
    {
      "cell_type": "code",
      "execution_count": 11,
      "id": "8abf27f1",
      "metadata": {
        "id": "8abf27f1"
      },
      "outputs": [],
      "source": [
        "df['title'].fillna('NA', inplace=True)"
      ]
    },
    {
      "cell_type": "code",
      "execution_count": 12,
      "id": "9c4b30db",
      "metadata": {
        "colab": {
          "base_uri": "https://localhost:8080/"
        },
        "id": "9c4b30db",
        "outputId": "737310c6-da8d-4727-a045-90e75dc442eb"
      },
      "outputs": [
        {
          "output_type": "execute_result",
          "data": {
            "text/plain": [
              "danceability        0\n",
              "energy              0\n",
              "key                 0\n",
              "loudness            0\n",
              "mode                0\n",
              "speechiness         0\n",
              "acousticness        0\n",
              "instrumentalness    0\n",
              "liveness            0\n",
              "valence             0\n",
              "tempo               0\n",
              "type                0\n",
              "id                  0\n",
              "uri                 0\n",
              "track_href          0\n",
              "analysis_url        0\n",
              "duration_ms         0\n",
              "time_signature      0\n",
              "genre               0\n",
              "song_name           0\n",
              "title               0\n",
              "dtype: int64"
            ]
          },
          "metadata": {},
          "execution_count": 12
        }
      ],
      "source": [
        "df.isnull().sum()"
      ]
    },
    {
      "cell_type": "code",
      "execution_count": 13,
      "id": "8d87f2e1",
      "metadata": {
        "colab": {
          "base_uri": "https://localhost:8080/"
        },
        "id": "8d87f2e1",
        "outputId": "aa3c2748-61a5-43e0-813d-e847db17c9c0"
      },
      "outputs": [
        {
          "output_type": "execute_result",
          "data": {
            "text/plain": [
              "type            object\n",
              "id              object\n",
              "uri             object\n",
              "track_href      object\n",
              "analysis_url    object\n",
              "genre           object\n",
              "song_name       object\n",
              "title           object\n",
              "dtype: object"
            ]
          },
          "metadata": {},
          "execution_count": 13
        }
      ],
      "source": [
        "df_cat=df.select_dtypes(object)\n",
        "df_cat.dtypes"
      ]
    },
    {
      "cell_type": "code",
      "execution_count": 14,
      "id": "c8363664",
      "metadata": {
        "colab": {
          "base_uri": "https://localhost:8080/"
        },
        "id": "c8363664",
        "outputId": "030f5e95-59ed-4ea4-8a1c-4e041cb28157"
      },
      "outputs": [
        {
          "output_type": "execute_result",
          "data": {
            "text/plain": [
              "danceability        float64\n",
              "energy              float64\n",
              "key                   int64\n",
              "loudness            float64\n",
              "mode                  int64\n",
              "speechiness         float64\n",
              "acousticness        float64\n",
              "instrumentalness    float64\n",
              "liveness            float64\n",
              "valence             float64\n",
              "tempo               float64\n",
              "duration_ms           int64\n",
              "time_signature        int64\n",
              "dtype: object"
            ]
          },
          "metadata": {},
          "execution_count": 14
        }
      ],
      "source": [
        "df_num=df.select_dtypes([\"int64\",\"float64\"])\n",
        "df_num.dtypes"
      ]
    },
    {
      "cell_type": "code",
      "execution_count": 15,
      "id": "a1ee0958",
      "metadata": {
        "id": "a1ee0958"
      },
      "outputs": [],
      "source": [
        "from sklearn.preprocessing import LabelEncoder\n",
        "\n",
        "for col in df_cat:\n",
        "    le=LabelEncoder()\n",
        "    df_cat[col]=le.fit_transform(df_cat[col])"
      ]
    },
    {
      "cell_type": "code",
      "execution_count": 16,
      "id": "bc52d4ac",
      "metadata": {
        "id": "bc52d4ac"
      },
      "outputs": [],
      "source": [
        "df_new=pd.concat([df_cat,df_num],axis=1)"
      ]
    },
    {
      "cell_type": "code",
      "execution_count": 17,
      "id": "b88afa86",
      "metadata": {
        "id": "b88afa86"
      },
      "outputs": [],
      "source": [
        "#select input and output from given dataset\n",
        "X=df_new.drop('mode',axis=1)\n",
        "Y=df_new['mode']"
      ]
    },
    {
      "cell_type": "code",
      "execution_count": 18,
      "id": "7ef28d19",
      "metadata": {
        "id": "7ef28d19"
      },
      "outputs": [],
      "source": [
        "#train test split\n",
        "from sklearn.model_selection import train_test_split\n",
        "X_train,X_test,Y_train,Y_test=train_test_split(X,Y,test_size=0.3,\n",
        "                                               random_state=1)"
      ]
    },
    {
      "cell_type": "code",
      "execution_count": 19,
      "id": "5f931d44",
      "metadata": {
        "id": "5f931d44"
      },
      "outputs": [],
      "source": [
        "#Apply StandardScaler on input X_train and X_test\n",
        "from sklearn.preprocessing import StandardScaler\n",
        "ss=StandardScaler()\n",
        "X_train=ss.fit_transform(X_train)#converts into numpy array\n",
        "X_test=ss.transform(X_test) #converts into numpy array"
      ]
    },
    {
      "cell_type": "markdown",
      "source": [
        "##MACHINE LEARNING"
      ],
      "metadata": {
        "id": "2j_WoaPn-q4C"
      },
      "id": "2j_WoaPn-q4C"
    },
    {
      "cell_type": "code",
      "source": [
        "from sklearn.metrics import classification_report,confusion_matrix,accuracy_score\n",
        "\n",
        "#create function for train and test the model\n",
        "def create_model(model):\n",
        "    model.fit(X_train,Y_train)\n",
        "    Y_pred=model.predict(X_test)\n",
        "\n",
        "    #Accuracy score\n",
        "    accur = accuracy_score(Y_pred,Y_test)*100\n",
        "\n",
        "    #generate thye report\n",
        "    print(classification_report(Y_test,Y_pred))\n",
        "    print(\"Confusion Matrix:\\n\",confusion_matrix(Y_test,Y_pred))\n",
        "    print(\"Accurate\",accur,\"% \")\n",
        "    return model"
      ],
      "metadata": {
        "id": "B5I_F-DH6cXB"
      },
      "id": "B5I_F-DH6cXB",
      "execution_count": 20,
      "outputs": []
    },
    {
      "cell_type": "code",
      "execution_count": 21,
      "id": "428b8a1d",
      "metadata": {
        "colab": {
          "base_uri": "https://localhost:8080/"
        },
        "id": "428b8a1d",
        "outputId": "2243da48-c88d-47c0-ebe4-894f94e03bd4"
      },
      "outputs": [
        {
          "output_type": "stream",
          "name": "stdout",
          "text": [
            "              precision    recall  f1-score   support\n",
            "\n",
            "           0       0.57      0.49      0.53      5684\n",
            "           1       0.63      0.69      0.66      7008\n",
            "\n",
            "    accuracy                           0.60     12692\n",
            "   macro avg       0.60      0.59      0.59     12692\n",
            "weighted avg       0.60      0.60      0.60     12692\n",
            "\n",
            "Confusion Matrix:\n",
            " [[2803 2881]\n",
            " [2156 4852]]\n",
            "Accurate 60.3135833595966 % \n"
          ]
        }
      ],
      "source": [
        "from sklearn.linear_model import LinearRegression\n",
        "lr=LogisticRegression()\n",
        "lr=create_model(lr)\n",
        "\n",
        "Y_pred = lr.predict(X_test)\n",
        "lr= accuracy_score(Y_pred,Y_test)"
      ]
    },
    {
      "cell_type": "code",
      "source": [
        "#Gaussian Naive bayes\n",
        "from sklearn.naive_bayes import GaussianNB\n",
        "gnb=GaussianNB()\n",
        "gnb=create_model(gnb)\n",
        "\n",
        "Y_pred = gnb.predict(X_test)\n",
        "gnb= accuracy_score(Y_pred,Y_test)"
      ],
      "metadata": {
        "colab": {
          "base_uri": "https://localhost:8080/"
        },
        "id": "--nl_QQj7TE5",
        "outputId": "4e66cf76-77e9-48be-a553-bdb7b9b44498"
      },
      "id": "--nl_QQj7TE5",
      "execution_count": 22,
      "outputs": [
        {
          "output_type": "stream",
          "name": "stdout",
          "text": [
            "              precision    recall  f1-score   support\n",
            "\n",
            "           0       0.56      0.56      0.56      5684\n",
            "           1       0.64      0.64      0.64      7008\n",
            "\n",
            "    accuracy                           0.60     12692\n",
            "   macro avg       0.60      0.60      0.60     12692\n",
            "weighted avg       0.60      0.60      0.60     12692\n",
            "\n",
            "Confusion Matrix:\n",
            " [[3162 2522]\n",
            " [2533 4475]]\n",
            "Accurate 60.171761739678544 % \n"
          ]
        }
      ]
    },
    {
      "cell_type": "code",
      "execution_count": 23,
      "id": "de6a8a97",
      "metadata": {
        "colab": {
          "base_uri": "https://localhost:8080/"
        },
        "id": "de6a8a97",
        "outputId": "954b0163-97b8-4743-b85b-7e92d4436169"
      },
      "outputs": [
        {
          "output_type": "stream",
          "name": "stdout",
          "text": [
            "              precision    recall  f1-score   support\n",
            "\n",
            "           0       0.65      0.67      0.66      5684\n",
            "           1       0.72      0.71      0.72      7008\n",
            "\n",
            "    accuracy                           0.69     12692\n",
            "   macro avg       0.69      0.69      0.69     12692\n",
            "weighted avg       0.69      0.69      0.69     12692\n",
            "\n",
            "Confusion Matrix:\n",
            " [[3788 1896]\n",
            " [2025 4983]]\n",
            "Accurate 69.10652379451622 % \n"
          ]
        }
      ],
      "source": [
        "from sklearn.tree import DecisionTreeClassifier\n",
        "dt = DecisionTreeClassifier()\n",
        "dt=create_model(dt)\n",
        "\n",
        "#to create dataframe\n",
        "Y_pred = dt.predict(X_test)\n",
        "dt= accuracy_score(Y_pred,Y_test)"
      ]
    },
    {
      "cell_type": "code",
      "source": [
        "from sklearn.ensemble import RandomForestClassifier\n",
        "rf= RandomForestClassifier()\n",
        "rf=create_model(rf)\n",
        "\n",
        "#to create dataframe\n",
        "Y_pred = rf.predict(X_test)\n",
        "rf= accuracy_score(Y_pred,Y_test)"
      ],
      "metadata": {
        "colab": {
          "base_uri": "https://localhost:8080/"
        },
        "id": "lAXnWogp8CG6",
        "outputId": "e46e4862-5c0a-43f9-edbc-3ab3cbaf5304"
      },
      "id": "lAXnWogp8CG6",
      "execution_count": 24,
      "outputs": [
        {
          "output_type": "stream",
          "name": "stdout",
          "text": [
            "              precision    recall  f1-score   support\n",
            "\n",
            "           0       0.75      0.74      0.74      5684\n",
            "           1       0.79      0.80      0.80      7008\n",
            "\n",
            "    accuracy                           0.77     12692\n",
            "   macro avg       0.77      0.77      0.77     12692\n",
            "weighted avg       0.77      0.77      0.77     12692\n",
            "\n",
            "Confusion Matrix:\n",
            " [[4183 1501]\n",
            " [1373 5635]]\n",
            "Accurate 77.35581468641664 % \n"
          ]
        }
      ]
    },
    {
      "cell_type": "code",
      "source": [
        "from xgboost import XGBClassifier\n",
        "xgb= XGBClassifier()\n",
        "xgb=create_model(xgb)\n",
        "\n",
        "#to create dataframe\n",
        "Y_pred =xgb.predict(X_test)\n",
        "xgb= accuracy_score(Y_pred,Y_test)"
      ],
      "metadata": {
        "colab": {
          "base_uri": "https://localhost:8080/"
        },
        "id": "MS2dgtsG8Kn-",
        "outputId": "9972b157-8f45-4adc-cec4-5e54c1803f67"
      },
      "id": "MS2dgtsG8Kn-",
      "execution_count": 25,
      "outputs": [
        {
          "output_type": "stream",
          "name": "stdout",
          "text": [
            "              precision    recall  f1-score   support\n",
            "\n",
            "           0       0.71      0.68      0.70      5684\n",
            "           1       0.75      0.77      0.76      7008\n",
            "\n",
            "    accuracy                           0.73     12692\n",
            "   macro avg       0.73      0.73      0.73     12692\n",
            "weighted avg       0.73      0.73      0.73     12692\n",
            "\n",
            "Confusion Matrix:\n",
            " [[3871 1813]\n",
            " [1583 5425]]\n",
            "Accurate 73.24298770879294 % \n"
          ]
        }
      ]
    },
    {
      "cell_type": "code",
      "source": [
        "from sklearn.neighbors import KNeighborsClassifier\n",
        "knn=KNeighborsClassifier(n_neighbors=5,metric='minkowski',p=2)\n",
        "knn= KNeighborsClassifier()\n",
        "knn=create_model(knn)\n",
        "\n",
        "#to create dataframe\n",
        "Y_pred = knn.predict(X_test)\n",
        "knn= accuracy_score(Y_pred,Y_test)"
      ],
      "metadata": {
        "colab": {
          "base_uri": "https://localhost:8080/"
        },
        "id": "onV006nK8UEh",
        "outputId": "ef9fa488-2734-478e-cb53-2a2de4cc7f9d"
      },
      "id": "onV006nK8UEh",
      "execution_count": 26,
      "outputs": [
        {
          "output_type": "stream",
          "name": "stdout",
          "text": [
            "              precision    recall  f1-score   support\n",
            "\n",
            "           0       0.58      0.55      0.56      5684\n",
            "           1       0.65      0.68      0.67      7008\n",
            "\n",
            "    accuracy                           0.62     12692\n",
            "   macro avg       0.62      0.61      0.62     12692\n",
            "weighted avg       0.62      0.62      0.62     12692\n",
            "\n",
            "Confusion Matrix:\n",
            " [[3111 2573]\n",
            " [2228 4780]]\n",
            "Accurate 62.17302237630003 % \n"
          ]
        }
      ]
    },
    {
      "cell_type": "code",
      "source": [
        "from sklearn.svm import LinearSVC\n",
        "svc=LinearSVC(random_state=1)\n",
        "svc= LinearSVC()\n",
        "svc=create_model(svc)\n",
        "\n",
        "#to create dataframe\n",
        "Y_pred = svc.predict(X_test)\n",
        "svc= accuracy_score(Y_pred,Y_test)"
      ],
      "metadata": {
        "colab": {
          "base_uri": "https://localhost:8080/"
        },
        "id": "6czUlmKq8d8x",
        "outputId": "c123fc90-6efc-4b11-907a-05367bf55ed2"
      },
      "id": "6czUlmKq8d8x",
      "execution_count": 27,
      "outputs": [
        {
          "output_type": "stream",
          "name": "stdout",
          "text": [
            "              precision    recall  f1-score   support\n",
            "\n",
            "           0       0.56      0.50      0.53      5684\n",
            "           1       0.63      0.69      0.66      7008\n",
            "\n",
            "    accuracy                           0.60     12692\n",
            "   macro avg       0.59      0.59      0.59     12692\n",
            "weighted avg       0.60      0.60      0.60     12692\n",
            "\n",
            "Confusion Matrix:\n",
            " [[2818 2866]\n",
            " [2190 4818]]\n",
            "Accurate 60.163882760794195 % \n"
          ]
        }
      ]
    },
    {
      "cell_type": "code",
      "source": [
        "from sklearn.ensemble import AdaBoostClassifier\n",
        "ada=AdaBoostClassifier(n_estimators=3,random_state=1)\n",
        "ada= AdaBoostClassifier()\n",
        "ada=create_model(ada)\n",
        "\n",
        "#to create dataframe\n",
        "Y_pred = ada.predict(X_test)\n",
        "ada= accuracy_score(Y_pred,Y_test)"
      ],
      "metadata": {
        "colab": {
          "base_uri": "https://localhost:8080/"
        },
        "id": "0SSrT4DN8mjJ",
        "outputId": "095b5d33-3c3c-4d02-fa5c-801a43a29b26"
      },
      "id": "0SSrT4DN8mjJ",
      "execution_count": 28,
      "outputs": [
        {
          "output_type": "stream",
          "name": "stdout",
          "text": [
            "              precision    recall  f1-score   support\n",
            "\n",
            "           0       0.68      0.64      0.66      5684\n",
            "           1       0.72      0.76      0.74      7008\n",
            "\n",
            "    accuracy                           0.71     12692\n",
            "   macro avg       0.70      0.70      0.70     12692\n",
            "weighted avg       0.70      0.71      0.70     12692\n",
            "\n",
            "Confusion Matrix:\n",
            " [[3644 2040]\n",
            " [1699 5309]]\n",
            "Accurate 70.54049795146548 % \n"
          ]
        }
      ]
    },
    {
      "cell_type": "code",
      "source": [
        "from sklearn.ensemble import GradientBoostingClassifier\n",
        "gbc= GradientBoostingClassifier()\n",
        "gbc=create_model(gbc)\n",
        "\n",
        "#to create dataframe\n",
        "Y_pred = gbc.predict(X_test)\n",
        "gbc= accuracy_score(Y_pred,Y_test)"
      ],
      "metadata": {
        "colab": {
          "base_uri": "https://localhost:8080/"
        },
        "id": "zEFMUD708u33",
        "outputId": "543d1823-3bf3-4be7-f873-6f09cca75d0d"
      },
      "id": "zEFMUD708u33",
      "execution_count": 29,
      "outputs": [
        {
          "output_type": "stream",
          "name": "stdout",
          "text": [
            "              precision    recall  f1-score   support\n",
            "\n",
            "           0       0.69      0.65      0.67      5684\n",
            "           1       0.73      0.76      0.74      7008\n",
            "\n",
            "    accuracy                           0.71     12692\n",
            "   macro avg       0.71      0.70      0.70     12692\n",
            "weighted avg       0.71      0.71      0.71     12692\n",
            "\n",
            "Confusion Matrix:\n",
            " [[3681 2003]\n",
            " [1685 5323]]\n",
            "Accurate 70.94232587456666 % \n"
          ]
        }
      ]
    },
    {
      "cell_type": "code",
      "source": [
        "score = [lr,gnb,dt,rf,xgb,knn,svc,ada,gbc]\n",
        "Models = pd.DataFrame({'n_neighbors': [\"Logistic Regression\",\"Gaussian Naive Bayes\",\"Decision Tree\",\"Random Forest\",\"XGBoost\", \"K-Neighbors\",\"Support vector\",\"ADA BOOST\",\"Gradient Boost\"],'Accuracy': score})\n",
        "Models.sort_values(by='Score',ascending=False)"
      ],
      "metadata": {
        "colab": {
          "base_uri": "https://localhost:8080/",
          "height": 331
        },
        "id": "Iu3wA3Yt80I_",
        "outputId": "4a914b04-f1f7-42cc-8ade-f9616ca85ee6"
      },
      "id": "Iu3wA3Yt80I_",
      "execution_count": 30,
      "outputs": [
        {
          "output_type": "execute_result",
          "data": {
            "text/plain": [
              "            n_neighbors     Score\n",
              "3         Random Forest  0.773558\n",
              "4               XGBoost  0.732430\n",
              "8        Gradient Boost  0.709423\n",
              "7             ADA BOOST  0.705405\n",
              "2         Decision Tree  0.691065\n",
              "5           K-Neighbors  0.621730\n",
              "0   Logistic Regression  0.603136\n",
              "1  Gaussian Naive Bayes  0.601718\n",
              "6        Support vector  0.601639"
            ],
            "text/html": [
              "\n",
              "  <div id=\"df-2e4212a8-b3c6-440e-a426-134db833ecd8\">\n",
              "    <div class=\"colab-df-container\">\n",
              "      <div>\n",
              "<style scoped>\n",
              "    .dataframe tbody tr th:only-of-type {\n",
              "        vertical-align: middle;\n",
              "    }\n",
              "\n",
              "    .dataframe tbody tr th {\n",
              "        vertical-align: top;\n",
              "    }\n",
              "\n",
              "    .dataframe thead th {\n",
              "        text-align: right;\n",
              "    }\n",
              "</style>\n",
              "<table border=\"1\" class=\"dataframe\">\n",
              "  <thead>\n",
              "    <tr style=\"text-align: right;\">\n",
              "      <th></th>\n",
              "      <th>n_neighbors</th>\n",
              "      <th>Score</th>\n",
              "    </tr>\n",
              "  </thead>\n",
              "  <tbody>\n",
              "    <tr>\n",
              "      <th>3</th>\n",
              "      <td>Random Forest</td>\n",
              "      <td>0.773558</td>\n",
              "    </tr>\n",
              "    <tr>\n",
              "      <th>4</th>\n",
              "      <td>XGBoost</td>\n",
              "      <td>0.732430</td>\n",
              "    </tr>\n",
              "    <tr>\n",
              "      <th>8</th>\n",
              "      <td>Gradient Boost</td>\n",
              "      <td>0.709423</td>\n",
              "    </tr>\n",
              "    <tr>\n",
              "      <th>7</th>\n",
              "      <td>ADA BOOST</td>\n",
              "      <td>0.705405</td>\n",
              "    </tr>\n",
              "    <tr>\n",
              "      <th>2</th>\n",
              "      <td>Decision Tree</td>\n",
              "      <td>0.691065</td>\n",
              "    </tr>\n",
              "    <tr>\n",
              "      <th>5</th>\n",
              "      <td>K-Neighbors</td>\n",
              "      <td>0.621730</td>\n",
              "    </tr>\n",
              "    <tr>\n",
              "      <th>0</th>\n",
              "      <td>Logistic Regression</td>\n",
              "      <td>0.603136</td>\n",
              "    </tr>\n",
              "    <tr>\n",
              "      <th>1</th>\n",
              "      <td>Gaussian Naive Bayes</td>\n",
              "      <td>0.601718</td>\n",
              "    </tr>\n",
              "    <tr>\n",
              "      <th>6</th>\n",
              "      <td>Support vector</td>\n",
              "      <td>0.601639</td>\n",
              "    </tr>\n",
              "  </tbody>\n",
              "</table>\n",
              "</div>\n",
              "      <button class=\"colab-df-convert\" onclick=\"convertToInteractive('df-2e4212a8-b3c6-440e-a426-134db833ecd8')\"\n",
              "              title=\"Convert this dataframe to an interactive table.\"\n",
              "              style=\"display:none;\">\n",
              "        \n",
              "  <svg xmlns=\"http://www.w3.org/2000/svg\" height=\"24px\"viewBox=\"0 0 24 24\"\n",
              "       width=\"24px\">\n",
              "    <path d=\"M0 0h24v24H0V0z\" fill=\"none\"/>\n",
              "    <path d=\"M18.56 5.44l.94 2.06.94-2.06 2.06-.94-2.06-.94-.94-2.06-.94 2.06-2.06.94zm-11 1L8.5 8.5l.94-2.06 2.06-.94-2.06-.94L8.5 2.5l-.94 2.06-2.06.94zm10 10l.94 2.06.94-2.06 2.06-.94-2.06-.94-.94-2.06-.94 2.06-2.06.94z\"/><path d=\"M17.41 7.96l-1.37-1.37c-.4-.4-.92-.59-1.43-.59-.52 0-1.04.2-1.43.59L10.3 9.45l-7.72 7.72c-.78.78-.78 2.05 0 2.83L4 21.41c.39.39.9.59 1.41.59.51 0 1.02-.2 1.41-.59l7.78-7.78 2.81-2.81c.8-.78.8-2.07 0-2.86zM5.41 20L4 18.59l7.72-7.72 1.47 1.35L5.41 20z\"/>\n",
              "  </svg>\n",
              "      </button>\n",
              "      \n",
              "  <style>\n",
              "    .colab-df-container {\n",
              "      display:flex;\n",
              "      flex-wrap:wrap;\n",
              "      gap: 12px;\n",
              "    }\n",
              "\n",
              "    .colab-df-convert {\n",
              "      background-color: #E8F0FE;\n",
              "      border: none;\n",
              "      border-radius: 50%;\n",
              "      cursor: pointer;\n",
              "      display: none;\n",
              "      fill: #1967D2;\n",
              "      height: 32px;\n",
              "      padding: 0 0 0 0;\n",
              "      width: 32px;\n",
              "    }\n",
              "\n",
              "    .colab-df-convert:hover {\n",
              "      background-color: #E2EBFA;\n",
              "      box-shadow: 0px 1px 2px rgba(60, 64, 67, 0.3), 0px 1px 3px 1px rgba(60, 64, 67, 0.15);\n",
              "      fill: #174EA6;\n",
              "    }\n",
              "\n",
              "    [theme=dark] .colab-df-convert {\n",
              "      background-color: #3B4455;\n",
              "      fill: #D2E3FC;\n",
              "    }\n",
              "\n",
              "    [theme=dark] .colab-df-convert:hover {\n",
              "      background-color: #434B5C;\n",
              "      box-shadow: 0px 1px 3px 1px rgba(0, 0, 0, 0.15);\n",
              "      filter: drop-shadow(0px 1px 2px rgba(0, 0, 0, 0.3));\n",
              "      fill: #FFFFFF;\n",
              "    }\n",
              "  </style>\n",
              "\n",
              "      <script>\n",
              "        const buttonEl =\n",
              "          document.querySelector('#df-2e4212a8-b3c6-440e-a426-134db833ecd8 button.colab-df-convert');\n",
              "        buttonEl.style.display =\n",
              "          google.colab.kernel.accessAllowed ? 'block' : 'none';\n",
              "\n",
              "        async function convertToInteractive(key) {\n",
              "          const element = document.querySelector('#df-2e4212a8-b3c6-440e-a426-134db833ecd8');\n",
              "          const dataTable =\n",
              "            await google.colab.kernel.invokeFunction('convertToInteractive',\n",
              "                                                     [key], {});\n",
              "          if (!dataTable) return;\n",
              "\n",
              "          const docLinkHtml = 'Like what you see? Visit the ' +\n",
              "            '<a target=\"_blank\" href=https://colab.research.google.com/notebooks/data_table.ipynb>data table notebook</a>'\n",
              "            + ' to learn more about interactive tables.';\n",
              "          element.innerHTML = '';\n",
              "          dataTable['output_type'] = 'display_data';\n",
              "          await google.colab.output.renderOutput(dataTable, element);\n",
              "          const docLink = document.createElement('div');\n",
              "          docLink.innerHTML = docLinkHtml;\n",
              "          element.appendChild(docLink);\n",
              "        }\n",
              "      </script>\n",
              "    </div>\n",
              "  </div>\n",
              "  "
            ]
          },
          "metadata": {},
          "execution_count": 30
        }
      ]
    },
    {
      "cell_type": "code",
      "source": [
        "#CONCLUSION\n",
        "'''\n",
        "from the above list we get to know that for this Spotify dataset RandomForest\n",
        "alogorithm is best with the result of the 77.35% .\n",
        "'''"
      ],
      "metadata": {
        "colab": {
          "base_uri": "https://localhost:8080/",
          "height": 35
        },
        "id": "UJ3tLlC889pA",
        "outputId": "11a08972-f232-4311-d82a-47007567fcbd"
      },
      "id": "UJ3tLlC889pA",
      "execution_count": 31,
      "outputs": [
        {
          "output_type": "execute_result",
          "data": {
            "text/plain": [
              "'\\nfrom the above list we get to know that for this Spotify dataset RandomForest\\nalogorithm is best with the result of the 77.32% .\\n'"
            ],
            "application/vnd.google.colaboratory.intrinsic+json": {
              "type": "string"
            }
          },
          "metadata": {},
          "execution_count": 31
        }
      ]
    },
    {
      "cell_type": "markdown",
      "source": [
        "##DEEP LEARNING"
      ],
      "metadata": {
        "id": "byOcOh3c-3TO"
      },
      "id": "byOcOh3c-3TO"
    },
    {
      "cell_type": "code",
      "source": [
        "from tensorflow.keras.models import Sequential\n",
        "from tensorflow.keras.layers import Dense, Dropout\n",
        "from tensorflow.keras.models import load_model"
      ],
      "metadata": {
        "id": "zZSkjEMU_cyV"
      },
      "id": "zZSkjEMU_cyV",
      "execution_count": 32,
      "outputs": []
    },
    {
      "cell_type": "code",
      "source": [
        "from tensorflow.keras.callbacks import EarlyStopping\n",
        "\n",
        "model=Sequential()\n",
        "\n",
        "model.add(Dense(64, input_dim=20, activation=\"relu\"))\n",
        "model.add(Dropout(rate=0.05))\n",
        "model.add(Dense(32, activation=\"relu\"))\n",
        "model.add(Dropout(rate=0.05))\n",
        "model.add(Dense(16, activation=\"relu\"))\n",
        "model.add(Dropout(rate=0.05))\n",
        "model.add(Dense(8, activation=\"relu\"))\n",
        "model.add(Dropout(rate=0.05))\n",
        "model.add(Dense(1, activation=\"sigmoid\"))\n",
        "\n",
        "model.compile(optimizer=\"adam\",loss=\"binary_crossentropy\", metrics=[\"accuracy\"]) #complile model\n",
        "earlystop=EarlyStopping(monitor=\"val_loss\",mode=\"min\",verbose=1,patience=50) #use early stopping\n",
        "\n",
        "model.fit(X_train,Y_train,epochs=500,validation_data=(X_test,Y_test),callbacks=[earlystop], batch_size=16) #train data\n"
      ],
      "metadata": {
        "colab": {
          "base_uri": "https://localhost:8080/"
        },
        "id": "pTOkQCkX-4Io",
        "outputId": "e7cae102-60f6-40ba-ffb3-ba3e130910a6"
      },
      "id": "pTOkQCkX-4Io",
      "execution_count": 52,
      "outputs": [
        {
          "output_type": "stream",
          "name": "stdout",
          "text": [
            "Epoch 1/500\n",
            "1851/1851 [==============================] - 5s 2ms/step - loss: 0.6550 - accuracy: 0.5943 - val_loss: 0.6345 - val_accuracy: 0.6233\n",
            "Epoch 2/500\n",
            "1851/1851 [==============================] - 4s 2ms/step - loss: 0.6379 - accuracy: 0.6212 - val_loss: 0.6299 - val_accuracy: 0.6517\n",
            "Epoch 3/500\n",
            "1851/1851 [==============================] - 4s 2ms/step - loss: 0.6274 - accuracy: 0.6538 - val_loss: 0.6146 - val_accuracy: 0.6740\n",
            "Epoch 4/500\n",
            "1851/1851 [==============================] - 4s 2ms/step - loss: 0.6167 - accuracy: 0.6741 - val_loss: 0.6080 - val_accuracy: 0.6867\n",
            "Epoch 5/500\n",
            "1851/1851 [==============================] - 4s 2ms/step - loss: 0.6097 - accuracy: 0.6806 - val_loss: 0.5985 - val_accuracy: 0.6913\n",
            "Epoch 6/500\n",
            "1851/1851 [==============================] - 4s 2ms/step - loss: 0.6041 - accuracy: 0.6867 - val_loss: 0.5966 - val_accuracy: 0.6900\n",
            "Epoch 7/500\n",
            "1851/1851 [==============================] - 4s 2ms/step - loss: 0.6002 - accuracy: 0.6900 - val_loss: 0.5954 - val_accuracy: 0.6921\n",
            "Epoch 8/500\n",
            "1851/1851 [==============================] - 4s 2ms/step - loss: 0.5996 - accuracy: 0.6868 - val_loss: 0.5960 - val_accuracy: 0.6882\n",
            "Epoch 9/500\n",
            "1851/1851 [==============================] - 6s 3ms/step - loss: 0.5944 - accuracy: 0.6933 - val_loss: 0.5916 - val_accuracy: 0.6959\n",
            "Epoch 10/500\n",
            "1851/1851 [==============================] - 3s 2ms/step - loss: 0.5911 - accuracy: 0.6954 - val_loss: 0.5923 - val_accuracy: 0.6912\n",
            "Epoch 11/500\n",
            "1851/1851 [==============================] - 3s 2ms/step - loss: 0.5907 - accuracy: 0.6968 - val_loss: 0.5927 - val_accuracy: 0.6948\n",
            "Epoch 12/500\n",
            "1851/1851 [==============================] - 4s 2ms/step - loss: 0.5896 - accuracy: 0.6973 - val_loss: 0.5920 - val_accuracy: 0.6957\n",
            "Epoch 13/500\n",
            "1851/1851 [==============================] - 4s 2ms/step - loss: 0.5874 - accuracy: 0.7020 - val_loss: 0.5883 - val_accuracy: 0.6989\n",
            "Epoch 14/500\n",
            "1851/1851 [==============================] - 5s 3ms/step - loss: 0.5840 - accuracy: 0.7005 - val_loss: 0.5880 - val_accuracy: 0.6956\n",
            "Epoch 15/500\n",
            "1851/1851 [==============================] - 6s 3ms/step - loss: 0.5839 - accuracy: 0.7010 - val_loss: 0.5871 - val_accuracy: 0.6974\n",
            "Epoch 16/500\n",
            "1851/1851 [==============================] - 5s 2ms/step - loss: 0.5811 - accuracy: 0.7032 - val_loss: 0.5880 - val_accuracy: 0.6960\n",
            "Epoch 17/500\n",
            "1851/1851 [==============================] - 4s 2ms/step - loss: 0.5805 - accuracy: 0.7058 - val_loss: 0.5889 - val_accuracy: 0.6934\n",
            "Epoch 18/500\n",
            "1851/1851 [==============================] - 5s 3ms/step - loss: 0.5792 - accuracy: 0.7076 - val_loss: 0.5893 - val_accuracy: 0.6982\n",
            "Epoch 19/500\n",
            "1851/1851 [==============================] - 5s 2ms/step - loss: 0.5778 - accuracy: 0.7074 - val_loss: 0.5880 - val_accuracy: 0.6952\n",
            "Epoch 20/500\n",
            "1851/1851 [==============================] - 6s 3ms/step - loss: 0.5756 - accuracy: 0.7065 - val_loss: 0.5868 - val_accuracy: 0.6960\n",
            "Epoch 21/500\n",
            "1851/1851 [==============================] - 4s 2ms/step - loss: 0.5764 - accuracy: 0.7073 - val_loss: 0.5873 - val_accuracy: 0.6963\n",
            "Epoch 22/500\n",
            "1851/1851 [==============================] - 4s 2ms/step - loss: 0.5749 - accuracy: 0.7118 - val_loss: 0.5874 - val_accuracy: 0.6979\n",
            "Epoch 23/500\n",
            "1851/1851 [==============================] - 4s 2ms/step - loss: 0.5749 - accuracy: 0.7088 - val_loss: 0.5872 - val_accuracy: 0.6990\n",
            "Epoch 24/500\n",
            "1851/1851 [==============================] - 4s 2ms/step - loss: 0.5733 - accuracy: 0.7122 - val_loss: 0.5870 - val_accuracy: 0.6955\n",
            "Epoch 25/500\n",
            "1851/1851 [==============================] - 4s 2ms/step - loss: 0.5735 - accuracy: 0.7109 - val_loss: 0.5873 - val_accuracy: 0.6996\n",
            "Epoch 26/500\n",
            "1851/1851 [==============================] - 6s 3ms/step - loss: 0.5719 - accuracy: 0.7125 - val_loss: 0.5864 - val_accuracy: 0.6960\n",
            "Epoch 27/500\n",
            "1851/1851 [==============================] - 4s 2ms/step - loss: 0.5695 - accuracy: 0.7134 - val_loss: 0.5853 - val_accuracy: 0.6999\n",
            "Epoch 28/500\n",
            "1851/1851 [==============================] - 4s 2ms/step - loss: 0.5705 - accuracy: 0.7100 - val_loss: 0.5884 - val_accuracy: 0.6941\n",
            "Epoch 29/500\n",
            "1851/1851 [==============================] - 6s 3ms/step - loss: 0.5697 - accuracy: 0.7142 - val_loss: 0.5863 - val_accuracy: 0.6978\n",
            "Epoch 30/500\n",
            "1851/1851 [==============================] - 4s 2ms/step - loss: 0.5699 - accuracy: 0.7135 - val_loss: 0.5874 - val_accuracy: 0.6974\n",
            "Epoch 31/500\n",
            "1851/1851 [==============================] - 5s 3ms/step - loss: 0.5696 - accuracy: 0.7133 - val_loss: 0.5872 - val_accuracy: 0.6958\n",
            "Epoch 32/500\n",
            "1851/1851 [==============================] - 10s 5ms/step - loss: 0.5679 - accuracy: 0.7140 - val_loss: 0.5873 - val_accuracy: 0.6949\n",
            "Epoch 33/500\n",
            "1851/1851 [==============================] - 5s 3ms/step - loss: 0.5672 - accuracy: 0.7124 - val_loss: 0.5861 - val_accuracy: 0.6939\n",
            "Epoch 34/500\n",
            "1851/1851 [==============================] - 5s 3ms/step - loss: 0.5651 - accuracy: 0.7162 - val_loss: 0.5871 - val_accuracy: 0.6976\n",
            "Epoch 35/500\n",
            "1851/1851 [==============================] - 4s 2ms/step - loss: 0.5651 - accuracy: 0.7164 - val_loss: 0.5873 - val_accuracy: 0.6948\n",
            "Epoch 36/500\n",
            "1851/1851 [==============================] - 4s 2ms/step - loss: 0.5653 - accuracy: 0.7182 - val_loss: 0.5859 - val_accuracy: 0.6944\n",
            "Epoch 37/500\n",
            "1851/1851 [==============================] - 5s 2ms/step - loss: 0.5627 - accuracy: 0.7220 - val_loss: 0.5904 - val_accuracy: 0.6919\n",
            "Epoch 38/500\n",
            "1851/1851 [==============================] - 4s 2ms/step - loss: 0.5638 - accuracy: 0.7194 - val_loss: 0.5904 - val_accuracy: 0.6949\n",
            "Epoch 39/500\n",
            "1851/1851 [==============================] - 3s 2ms/step - loss: 0.5648 - accuracy: 0.7158 - val_loss: 0.5877 - val_accuracy: 0.7003\n",
            "Epoch 40/500\n",
            "1851/1851 [==============================] - 4s 2ms/step - loss: 0.5625 - accuracy: 0.7190 - val_loss: 0.5874 - val_accuracy: 0.6964\n",
            "Epoch 41/500\n",
            "1851/1851 [==============================] - 5s 3ms/step - loss: 0.5623 - accuracy: 0.7193 - val_loss: 0.5842 - val_accuracy: 0.7027\n",
            "Epoch 42/500\n",
            "1851/1851 [==============================] - 4s 2ms/step - loss: 0.5611 - accuracy: 0.7203 - val_loss: 0.5843 - val_accuracy: 0.6982\n",
            "Epoch 43/500\n",
            "1851/1851 [==============================] - 4s 2ms/step - loss: 0.5627 - accuracy: 0.7183 - val_loss: 0.5862 - val_accuracy: 0.6996\n",
            "Epoch 44/500\n",
            "1851/1851 [==============================] - 4s 2ms/step - loss: 0.5593 - accuracy: 0.7209 - val_loss: 0.5845 - val_accuracy: 0.7010\n",
            "Epoch 45/500\n",
            "1851/1851 [==============================] - 4s 2ms/step - loss: 0.5598 - accuracy: 0.7185 - val_loss: 0.5863 - val_accuracy: 0.7000\n",
            "Epoch 46/500\n",
            "1851/1851 [==============================] - 5s 2ms/step - loss: 0.5599 - accuracy: 0.7193 - val_loss: 0.5830 - val_accuracy: 0.6972\n",
            "Epoch 47/500\n",
            "1851/1851 [==============================] - 4s 2ms/step - loss: 0.5594 - accuracy: 0.7208 - val_loss: 0.5844 - val_accuracy: 0.6966\n",
            "Epoch 48/500\n",
            "1851/1851 [==============================] - 3s 2ms/step - loss: 0.5567 - accuracy: 0.7211 - val_loss: 0.5845 - val_accuracy: 0.6951\n",
            "Epoch 49/500\n",
            "1851/1851 [==============================] - 4s 2ms/step - loss: 0.5565 - accuracy: 0.7210 - val_loss: 0.5870 - val_accuracy: 0.6988\n",
            "Epoch 50/500\n",
            "1851/1851 [==============================] - 4s 2ms/step - loss: 0.5571 - accuracy: 0.7226 - val_loss: 0.5871 - val_accuracy: 0.6942\n",
            "Epoch 51/500\n",
            "1851/1851 [==============================] - 3s 2ms/step - loss: 0.5553 - accuracy: 0.7258 - val_loss: 0.5869 - val_accuracy: 0.7004\n",
            "Epoch 52/500\n",
            "1851/1851 [==============================] - 4s 2ms/step - loss: 0.5566 - accuracy: 0.7211 - val_loss: 0.5851 - val_accuracy: 0.7024\n",
            "Epoch 53/500\n",
            "1851/1851 [==============================] - 4s 2ms/step - loss: 0.5556 - accuracy: 0.7253 - val_loss: 0.5842 - val_accuracy: 0.6982\n",
            "Epoch 54/500\n",
            "1851/1851 [==============================] - 4s 2ms/step - loss: 0.5536 - accuracy: 0.7262 - val_loss: 0.5853 - val_accuracy: 0.6982\n",
            "Epoch 55/500\n",
            "1851/1851 [==============================] - 4s 2ms/step - loss: 0.5551 - accuracy: 0.7241 - val_loss: 0.5890 - val_accuracy: 0.6971\n",
            "Epoch 56/500\n",
            "1851/1851 [==============================] - 4s 2ms/step - loss: 0.5512 - accuracy: 0.7266 - val_loss: 0.5930 - val_accuracy: 0.6999\n",
            "Epoch 57/500\n",
            "1851/1851 [==============================] - 4s 2ms/step - loss: 0.5536 - accuracy: 0.7242 - val_loss: 0.5881 - val_accuracy: 0.6984\n",
            "Epoch 58/500\n",
            "1851/1851 [==============================] - 4s 2ms/step - loss: 0.5508 - accuracy: 0.7259 - val_loss: 0.5872 - val_accuracy: 0.6971\n",
            "Epoch 59/500\n",
            "1851/1851 [==============================] - 5s 3ms/step - loss: 0.5509 - accuracy: 0.7257 - val_loss: 0.5861 - val_accuracy: 0.6987\n",
            "Epoch 60/500\n",
            "1851/1851 [==============================] - 4s 2ms/step - loss: 0.5504 - accuracy: 0.7267 - val_loss: 0.5889 - val_accuracy: 0.7004\n",
            "Epoch 61/500\n",
            "1851/1851 [==============================] - 3s 2ms/step - loss: 0.5526 - accuracy: 0.7283 - val_loss: 0.5879 - val_accuracy: 0.6975\n",
            "Epoch 62/500\n",
            "1851/1851 [==============================] - 5s 2ms/step - loss: 0.5512 - accuracy: 0.7270 - val_loss: 0.5862 - val_accuracy: 0.7012\n",
            "Epoch 63/500\n",
            "1851/1851 [==============================] - 4s 2ms/step - loss: 0.5505 - accuracy: 0.7286 - val_loss: 0.5856 - val_accuracy: 0.7008\n",
            "Epoch 64/500\n",
            "1851/1851 [==============================] - 3s 2ms/step - loss: 0.5499 - accuracy: 0.7292 - val_loss: 0.5890 - val_accuracy: 0.6995\n",
            "Epoch 65/500\n",
            "1851/1851 [==============================] - 4s 2ms/step - loss: 0.5493 - accuracy: 0.7302 - val_loss: 0.5851 - val_accuracy: 0.6967\n",
            "Epoch 66/500\n",
            "1851/1851 [==============================] - 3s 2ms/step - loss: 0.5491 - accuracy: 0.7276 - val_loss: 0.5842 - val_accuracy: 0.7017\n",
            "Epoch 67/500\n",
            "1851/1851 [==============================] - 3s 2ms/step - loss: 0.5488 - accuracy: 0.7287 - val_loss: 0.5854 - val_accuracy: 0.6997\n",
            "Epoch 68/500\n",
            "1851/1851 [==============================] - 4s 2ms/step - loss: 0.5493 - accuracy: 0.7270 - val_loss: 0.5889 - val_accuracy: 0.6971\n",
            "Epoch 69/500\n",
            "1851/1851 [==============================] - 4s 2ms/step - loss: 0.5476 - accuracy: 0.7292 - val_loss: 0.5905 - val_accuracy: 0.7012\n",
            "Epoch 70/500\n",
            "1851/1851 [==============================] - 4s 2ms/step - loss: 0.5489 - accuracy: 0.7302 - val_loss: 0.5855 - val_accuracy: 0.7017\n",
            "Epoch 71/500\n",
            "1851/1851 [==============================] - 5s 3ms/step - loss: 0.5473 - accuracy: 0.7304 - val_loss: 0.5880 - val_accuracy: 0.7002\n",
            "Epoch 72/500\n",
            "1851/1851 [==============================] - 5s 3ms/step - loss: 0.5479 - accuracy: 0.7269 - val_loss: 0.5866 - val_accuracy: 0.7037\n",
            "Epoch 73/500\n",
            "1851/1851 [==============================] - 3s 2ms/step - loss: 0.5477 - accuracy: 0.7294 - val_loss: 0.5853 - val_accuracy: 0.7000\n",
            "Epoch 74/500\n",
            "1851/1851 [==============================] - 4s 2ms/step - loss: 0.5456 - accuracy: 0.7316 - val_loss: 0.5878 - val_accuracy: 0.7008\n",
            "Epoch 75/500\n",
            "1851/1851 [==============================] - 4s 2ms/step - loss: 0.5456 - accuracy: 0.7318 - val_loss: 0.5909 - val_accuracy: 0.6986\n",
            "Epoch 76/500\n",
            "1851/1851 [==============================] - 3s 2ms/step - loss: 0.5454 - accuracy: 0.7320 - val_loss: 0.5905 - val_accuracy: 0.6974\n",
            "Epoch 77/500\n",
            "1851/1851 [==============================] - 4s 2ms/step - loss: 0.5440 - accuracy: 0.7330 - val_loss: 0.5861 - val_accuracy: 0.7007\n",
            "Epoch 78/500\n",
            "1851/1851 [==============================] - 4s 2ms/step - loss: 0.5445 - accuracy: 0.7314 - val_loss: 0.5892 - val_accuracy: 0.7038\n",
            "Epoch 79/500\n",
            "1851/1851 [==============================] - 4s 2ms/step - loss: 0.5441 - accuracy: 0.7325 - val_loss: 0.5878 - val_accuracy: 0.7011\n",
            "Epoch 80/500\n",
            "1851/1851 [==============================] - 4s 2ms/step - loss: 0.5419 - accuracy: 0.7327 - val_loss: 0.5910 - val_accuracy: 0.6997\n",
            "Epoch 81/500\n",
            "1851/1851 [==============================] - 4s 2ms/step - loss: 0.5421 - accuracy: 0.7334 - val_loss: 0.5894 - val_accuracy: 0.6978\n",
            "Epoch 82/500\n",
            "1851/1851 [==============================] - 3s 2ms/step - loss: 0.5412 - accuracy: 0.7339 - val_loss: 0.5877 - val_accuracy: 0.7042\n",
            "Epoch 83/500\n",
            "1851/1851 [==============================] - 4s 2ms/step - loss: 0.5420 - accuracy: 0.7371 - val_loss: 0.5886 - val_accuracy: 0.7006\n",
            "Epoch 84/500\n",
            "1851/1851 [==============================] - 4s 2ms/step - loss: 0.5408 - accuracy: 0.7339 - val_loss: 0.5898 - val_accuracy: 0.6989\n",
            "Epoch 85/500\n",
            "1851/1851 [==============================] - 4s 2ms/step - loss: 0.5405 - accuracy: 0.7345 - val_loss: 0.5903 - val_accuracy: 0.7007\n",
            "Epoch 86/500\n",
            "1851/1851 [==============================] - 3s 2ms/step - loss: 0.5407 - accuracy: 0.7323 - val_loss: 0.5938 - val_accuracy: 0.6997\n",
            "Epoch 87/500\n",
            "1851/1851 [==============================] - 4s 2ms/step - loss: 0.5408 - accuracy: 0.7341 - val_loss: 0.5900 - val_accuracy: 0.6993\n",
            "Epoch 88/500\n",
            "1851/1851 [==============================] - 4s 2ms/step - loss: 0.5410 - accuracy: 0.7344 - val_loss: 0.5896 - val_accuracy: 0.6988\n",
            "Epoch 89/500\n",
            "1851/1851 [==============================] - 3s 2ms/step - loss: 0.5404 - accuracy: 0.7347 - val_loss: 0.5867 - val_accuracy: 0.6983\n",
            "Epoch 90/500\n",
            "1851/1851 [==============================] - 4s 2ms/step - loss: 0.5389 - accuracy: 0.7365 - val_loss: 0.5922 - val_accuracy: 0.6998\n",
            "Epoch 91/500\n",
            "1851/1851 [==============================] - 4s 2ms/step - loss: 0.5392 - accuracy: 0.7367 - val_loss: 0.5897 - val_accuracy: 0.6974\n",
            "Epoch 92/500\n",
            "1851/1851 [==============================] - 4s 2ms/step - loss: 0.5401 - accuracy: 0.7334 - val_loss: 0.5926 - val_accuracy: 0.7009\n",
            "Epoch 93/500\n",
            "1851/1851 [==============================] - 4s 2ms/step - loss: 0.5413 - accuracy: 0.7337 - val_loss: 0.5894 - val_accuracy: 0.6975\n",
            "Epoch 94/500\n",
            "1851/1851 [==============================] - 4s 2ms/step - loss: 0.5401 - accuracy: 0.7357 - val_loss: 0.5921 - val_accuracy: 0.6960\n",
            "Epoch 95/500\n",
            "1851/1851 [==============================] - 4s 2ms/step - loss: 0.5376 - accuracy: 0.7360 - val_loss: 0.5939 - val_accuracy: 0.6967\n",
            "Epoch 96/500\n",
            "1851/1851 [==============================] - 3s 2ms/step - loss: 0.5386 - accuracy: 0.7337 - val_loss: 0.5910 - val_accuracy: 0.6994\n",
            "Epoch 96: early stopping\n"
          ]
        },
        {
          "output_type": "execute_result",
          "data": {
            "text/plain": [
              "<keras.callbacks.History at 0x7f7f7b8d4dc0>"
            ]
          },
          "metadata": {},
          "execution_count": 52
        }
      ]
    },
    {
      "cell_type": "code",
      "source": [
        "# Generate predictions\n",
        "y_pred = model.predict(X_test)\n",
        "y_pred = np.round(y_pred).astype(int)"
      ],
      "metadata": {
        "colab": {
          "base_uri": "https://localhost:8080/"
        },
        "id": "84mrZncM-O7t",
        "outputId": "4d0153e3-79f1-413e-c291-7a9a4d851aba"
      },
      "id": "84mrZncM-O7t",
      "execution_count": 53,
      "outputs": [
        {
          "output_type": "stream",
          "name": "stdout",
          "text": [
            "397/397 [==============================] - 0s 858us/step\n"
          ]
        }
      ]
    },
    {
      "cell_type": "code",
      "source": [
        "# Print classification report\n",
        "print(classification_report(Y_test, y_pred))"
      ],
      "metadata": {
        "colab": {
          "base_uri": "https://localhost:8080/"
        },
        "id": "VTcn5yWa_LW4",
        "outputId": "7b6687f4-1661-4673-dbee-ef8c9c3328ff"
      },
      "id": "VTcn5yWa_LW4",
      "execution_count": 54,
      "outputs": [
        {
          "output_type": "stream",
          "name": "stdout",
          "text": [
            "              precision    recall  f1-score   support\n",
            "\n",
            "           0       0.66      0.68      0.67      5684\n",
            "           1       0.74      0.71      0.72      7008\n",
            "\n",
            "    accuracy                           0.70     12692\n",
            "   macro avg       0.70      0.70      0.70     12692\n",
            "weighted avg       0.70      0.70      0.70     12692\n",
            "\n"
          ]
        }
      ]
    },
    {
      "cell_type": "code",
      "source": [
        "# Calculate accuracy\n",
        "accuracy = (Y_test.values == y_pred).mean() * 100\n",
        "print(f\"Accuracy: {accuracy}\")"
      ],
      "metadata": {
        "colab": {
          "base_uri": "https://localhost:8080/"
        },
        "id": "_SS2ORE7_Nuh",
        "outputId": "c8e07cb0-3f76-4046-c7ee-ebbcba797f95"
      },
      "id": "_SS2ORE7_Nuh",
      "execution_count": 44,
      "outputs": [
        {
          "output_type": "stream",
          "name": "stdout",
          "text": [
            "Accuracy: 50.71013611637507\n"
          ]
        }
      ]
    },
    {
      "cell_type": "markdown",
      "source": [
        "##CONCLUSION"
      ],
      "metadata": {
        "id": "KjhhUZA7NzOA"
      },
      "id": "KjhhUZA7NzOA"
    },
    {
      "cell_type": "markdown",
      "source": [
        "##By comparing ML and DL from the above, we get to know that for this Spotify dataset\n",
        "ML RandomForest alogorithm is best with the result of the 77.32% accuracy.\n"
      ],
      "metadata": {
        "id": "A-cdTPjeN5vN"
      },
      "id": "A-cdTPjeN5vN"
    }
  ],
  "metadata": {
    "kernelspec": {
      "display_name": "Python 3 (ipykernel)",
      "language": "python",
      "name": "python3"
    },
    "language_info": {
      "codemirror_mode": {
        "name": "ipython",
        "version": 3
      },
      "file_extension": ".py",
      "mimetype": "text/x-python",
      "name": "python",
      "nbconvert_exporter": "python",
      "pygments_lexer": "ipython3",
      "version": "3.9.12"
    },
    "colab": {
      "provenance": []
    }
  },
  "nbformat": 4,
  "nbformat_minor": 5
}